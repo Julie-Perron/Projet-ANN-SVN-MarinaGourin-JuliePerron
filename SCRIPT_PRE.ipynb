{
 "cells": [
  {
   "cell_type": "markdown",
   "metadata": {},
   "source": [
    "# PROJET SVM-ANN : Marina Gourin et Julie Perron - M2 EKAP"
   ]
  },
  {
   "cell_type": "markdown",
   "metadata": {},
   "source": [
    "#### Chargement des packages"
   ]
  },
  {
   "cell_type": "code",
   "execution_count": 1,
   "metadata": {},
   "outputs": [],
   "source": [
    "import pandas as pd\n",
    "import numpy as np\n",
    "import matplotlib.pyplot as plt\n",
    "import seaborn as sns\n",
    "import nltk\n",
    "import tensorflow as tf\n",
    "import string"
   ]
  },
  {
   "cell_type": "code",
   "execution_count": 2,
   "metadata": {},
   "outputs": [],
   "source": [
    "from sklearn import svm, metrics\n",
    "from sklearn.linear_model import LogisticRegression\n",
    "from sklearn.svm import LinearSVC, SVC\n",
    "from sklearn.pipeline import make_pipeline, Pipeline\n",
    "from sklearn.preprocessing import StandardScaler, LabelEncoder\n",
    "from sklearn.datasets import make_classification\n",
    "from sklearn.metrics import make_scorer, r2_score, classification_report, confusion_matrix, accuracy_score, f1_score\n",
    "from sklearn.model_selection import GridSearchCV, train_test_split, cross_val_score\n",
    "from sklearn.tree import DecisionTreeClassifier\n",
    "from sklearn.ensemble import RandomForestClassifier\n",
    "from sklearn.neural_network import MLPClassifier\n",
    "from sklearn.feature_extraction.text import  TfidfTransformer, CountVectorizer"
   ]
  },
  {
   "cell_type": "code",
   "execution_count": 3,
   "metadata": {},
   "outputs": [],
   "source": [
    "from nltk.tokenize import word_tokenize\n",
    "from nltk.corpus import stopwords"
   ]
  },
  {
   "cell_type": "code",
   "execution_count": 4,
   "metadata": {},
   "outputs": [],
   "source": [
    "from gensim.test.utils import common_texts\n",
    "from gensim.models import Word2Vec\n",
    "from gensim.models import word2vec\n",
    "from gensim.utils import tokenize"
   ]
  },
  {
   "cell_type": "markdown",
   "metadata": {},
   "source": [
    "#### Importation des données"
   ]
  },
  {
   "cell_type": "code",
   "execution_count": 5,
   "metadata": {},
   "outputs": [],
   "source": [
    "train = pd.read_csv(\"train.csv\",\n",
    "                    sep=\",\",header=0)\n",
    "\n",
    "test = pd.read_csv(\"test.csv\",\n",
    "                    sep=\",\",header=0)  "
   ]
  },
  {
   "cell_type": "code",
   "execution_count": 6,
   "metadata": {},
   "outputs": [
    {
     "data": {
      "text/html": [
       "<div>\n",
       "<style scoped>\n",
       "    .dataframe tbody tr th:only-of-type {\n",
       "        vertical-align: middle;\n",
       "    }\n",
       "\n",
       "    .dataframe tbody tr th {\n",
       "        vertical-align: top;\n",
       "    }\n",
       "\n",
       "    .dataframe thead th {\n",
       "        text-align: right;\n",
       "    }\n",
       "</style>\n",
       "<table border=\"1\" class=\"dataframe\">\n",
       "  <thead>\n",
       "    <tr style=\"text-align: right;\">\n",
       "      <th></th>\n",
       "      <th>id</th>\n",
       "      <th>premise</th>\n",
       "      <th>hypothesis</th>\n",
       "      <th>lang_abv</th>\n",
       "      <th>language</th>\n",
       "      <th>label</th>\n",
       "    </tr>\n",
       "  </thead>\n",
       "  <tbody>\n",
       "    <tr>\n",
       "      <th>0</th>\n",
       "      <td>5130fd2cb5</td>\n",
       "      <td>and these comments were considered in formulat...</td>\n",
       "      <td>The rules developed in the interim were put to...</td>\n",
       "      <td>en</td>\n",
       "      <td>English</td>\n",
       "      <td>0</td>\n",
       "    </tr>\n",
       "    <tr>\n",
       "      <th>1</th>\n",
       "      <td>5b72532a0b</td>\n",
       "      <td>These are issues that we wrestle with in pract...</td>\n",
       "      <td>Practice groups are not permitted to work on t...</td>\n",
       "      <td>en</td>\n",
       "      <td>English</td>\n",
       "      <td>2</td>\n",
       "    </tr>\n",
       "    <tr>\n",
       "      <th>2</th>\n",
       "      <td>3931fbe82a</td>\n",
       "      <td>Des petites choses comme celles-là font une di...</td>\n",
       "      <td>J'essayais d'accomplir quelque chose.</td>\n",
       "      <td>fr</td>\n",
       "      <td>French</td>\n",
       "      <td>0</td>\n",
       "    </tr>\n",
       "    <tr>\n",
       "      <th>3</th>\n",
       "      <td>5622f0c60b</td>\n",
       "      <td>you know they can't really defend themselves l...</td>\n",
       "      <td>They can't defend themselves because of their ...</td>\n",
       "      <td>en</td>\n",
       "      <td>English</td>\n",
       "      <td>0</td>\n",
       "    </tr>\n",
       "    <tr>\n",
       "      <th>4</th>\n",
       "      <td>86aaa48b45</td>\n",
       "      <td>ในการเล่นบทบาทสมมุติก็เช่นกัน โอกาสที่จะได้แสด...</td>\n",
       "      <td>เด็กสามารถเห็นได้ว่าชาติพันธุ์แตกต่างกันอย่างไร</td>\n",
       "      <td>th</td>\n",
       "      <td>Thai</td>\n",
       "      <td>1</td>\n",
       "    </tr>\n",
       "  </tbody>\n",
       "</table>\n",
       "</div>"
      ],
      "text/plain": [
       "           id                                            premise  \\\n",
       "0  5130fd2cb5  and these comments were considered in formulat...   \n",
       "1  5b72532a0b  These are issues that we wrestle with in pract...   \n",
       "2  3931fbe82a  Des petites choses comme celles-là font une di...   \n",
       "3  5622f0c60b  you know they can't really defend themselves l...   \n",
       "4  86aaa48b45  ในการเล่นบทบาทสมมุติก็เช่นกัน โอกาสที่จะได้แสด...   \n",
       "\n",
       "                                          hypothesis lang_abv language  label  \n",
       "0  The rules developed in the interim were put to...       en  English      0  \n",
       "1  Practice groups are not permitted to work on t...       en  English      2  \n",
       "2              J'essayais d'accomplir quelque chose.       fr   French      0  \n",
       "3  They can't defend themselves because of their ...       en  English      0  \n",
       "4    เด็กสามารถเห็นได้ว่าชาติพันธุ์แตกต่างกันอย่างไร       th     Thai      1  "
      ]
     },
     "execution_count": 6,
     "metadata": {},
     "output_type": "execute_result"
    }
   ],
   "source": [
    "train.head()"
   ]
  },
  {
   "cell_type": "code",
   "execution_count": 7,
   "metadata": {},
   "outputs": [
    {
     "data": {
      "text/plain": [
       "(12120, 6)"
      ]
     },
     "execution_count": 7,
     "metadata": {},
     "output_type": "execute_result"
    }
   ],
   "source": [
    "train.shape"
   ]
  },
  {
   "cell_type": "code",
   "execution_count": 8,
   "metadata": {},
   "outputs": [
    {
     "data": {
      "text/html": [
       "<div>\n",
       "<style scoped>\n",
       "    .dataframe tbody tr th:only-of-type {\n",
       "        vertical-align: middle;\n",
       "    }\n",
       "\n",
       "    .dataframe tbody tr th {\n",
       "        vertical-align: top;\n",
       "    }\n",
       "\n",
       "    .dataframe thead th {\n",
       "        text-align: right;\n",
       "    }\n",
       "</style>\n",
       "<table border=\"1\" class=\"dataframe\">\n",
       "  <thead>\n",
       "    <tr style=\"text-align: right;\">\n",
       "      <th></th>\n",
       "      <th>id</th>\n",
       "      <th>premise</th>\n",
       "      <th>hypothesis</th>\n",
       "      <th>lang_abv</th>\n",
       "      <th>language</th>\n",
       "    </tr>\n",
       "  </thead>\n",
       "  <tbody>\n",
       "    <tr>\n",
       "      <th>0</th>\n",
       "      <td>c6d58c3f69</td>\n",
       "      <td>بکس، کیسی، راہیل، یسعیاہ، کیلی، کیلی، اور کولم...</td>\n",
       "      <td>کیسی کے لئے کوئی یادگار نہیں ہوگا, کولمین ہائی...</td>\n",
       "      <td>ur</td>\n",
       "      <td>Urdu</td>\n",
       "    </tr>\n",
       "    <tr>\n",
       "      <th>1</th>\n",
       "      <td>cefcc82292</td>\n",
       "      <td>هذا هو ما تم نصحنا به.</td>\n",
       "      <td>عندما يتم إخبارهم بما يجب عليهم فعله ، فشلت ال...</td>\n",
       "      <td>ar</td>\n",
       "      <td>Arabic</td>\n",
       "    </tr>\n",
       "    <tr>\n",
       "      <th>2</th>\n",
       "      <td>e98005252c</td>\n",
       "      <td>et cela est en grande partie dû au fait que le...</td>\n",
       "      <td>Les mères se droguent.</td>\n",
       "      <td>fr</td>\n",
       "      <td>French</td>\n",
       "    </tr>\n",
       "    <tr>\n",
       "      <th>3</th>\n",
       "      <td>58518c10ba</td>\n",
       "      <td>与城市及其他公民及社区组织代表就IMA的艺术发展进行对话&amp;amp</td>\n",
       "      <td>IMA与其他组织合作，因为它们都依靠共享资金。</td>\n",
       "      <td>zh</td>\n",
       "      <td>Chinese</td>\n",
       "    </tr>\n",
       "    <tr>\n",
       "      <th>4</th>\n",
       "      <td>c32b0d16df</td>\n",
       "      <td>Она все еще была там.</td>\n",
       "      <td>Мы думали, что она ушла, однако, она осталась.</td>\n",
       "      <td>ru</td>\n",
       "      <td>Russian</td>\n",
       "    </tr>\n",
       "  </tbody>\n",
       "</table>\n",
       "</div>"
      ],
      "text/plain": [
       "           id                                            premise  \\\n",
       "0  c6d58c3f69  بکس، کیسی، راہیل، یسعیاہ، کیلی، کیلی، اور کولم...   \n",
       "1  cefcc82292                             هذا هو ما تم نصحنا به.   \n",
       "2  e98005252c  et cela est en grande partie dû au fait que le...   \n",
       "3  58518c10ba                   与城市及其他公民及社区组织代表就IMA的艺术发展进行对话&amp   \n",
       "4  c32b0d16df                              Она все еще была там.   \n",
       "\n",
       "                                          hypothesis lang_abv language  \n",
       "0  کیسی کے لئے کوئی یادگار نہیں ہوگا, کولمین ہائی...       ur     Urdu  \n",
       "1  عندما يتم إخبارهم بما يجب عليهم فعله ، فشلت ال...       ar   Arabic  \n",
       "2                             Les mères se droguent.       fr   French  \n",
       "3                            IMA与其他组织合作，因为它们都依靠共享资金。       zh  Chinese  \n",
       "4     Мы думали, что она ушла, однако, она осталась.       ru  Russian  "
      ]
     },
     "execution_count": 8,
     "metadata": {},
     "output_type": "execute_result"
    }
   ],
   "source": [
    "test.head()"
   ]
  },
  {
   "cell_type": "code",
   "execution_count": 9,
   "metadata": {},
   "outputs": [
    {
     "data": {
      "text/plain": [
       "(5195, 5)"
      ]
     },
     "execution_count": 9,
     "metadata": {},
     "output_type": "execute_result"
    }
   ],
   "source": [
    "test.shape"
   ]
  },
  {
   "cell_type": "code",
   "execution_count": 10,
   "metadata": {},
   "outputs": [
    {
     "data": {
      "text/plain": [
       "array(['English', 'French', 'Thai', 'Turkish', 'Urdu', 'Russian',\n",
       "       'Bulgarian', 'German', 'Arabic', 'Chinese', 'Hindi', 'Swahili',\n",
       "       'Vietnamese', 'Spanish', 'Greek'], dtype=object)"
      ]
     },
     "execution_count": 10,
     "metadata": {},
     "output_type": "execute_result"
    }
   ],
   "source": [
    "train.language.unique()   "
   ]
  },
  {
   "cell_type": "code",
   "execution_count": 11,
   "metadata": {},
   "outputs": [
    {
     "data": {
      "text/html": [
       "<div>\n",
       "<style scoped>\n",
       "    .dataframe tbody tr th:only-of-type {\n",
       "        vertical-align: middle;\n",
       "    }\n",
       "\n",
       "    .dataframe tbody tr th {\n",
       "        vertical-align: top;\n",
       "    }\n",
       "\n",
       "    .dataframe thead th {\n",
       "        text-align: right;\n",
       "    }\n",
       "</style>\n",
       "<table border=\"1\" class=\"dataframe\">\n",
       "  <thead>\n",
       "    <tr style=\"text-align: right;\">\n",
       "      <th></th>\n",
       "      <th>id</th>\n",
       "      <th>premise</th>\n",
       "      <th>hypothesis</th>\n",
       "      <th>lang_abv</th>\n",
       "      <th>language</th>\n",
       "    </tr>\n",
       "    <tr>\n",
       "      <th>label</th>\n",
       "      <th></th>\n",
       "      <th></th>\n",
       "      <th></th>\n",
       "      <th></th>\n",
       "      <th></th>\n",
       "    </tr>\n",
       "  </thead>\n",
       "  <tbody>\n",
       "    <tr>\n",
       "      <th>0</th>\n",
       "      <td>4176</td>\n",
       "      <td>4176</td>\n",
       "      <td>4176</td>\n",
       "      <td>4176</td>\n",
       "      <td>4176</td>\n",
       "    </tr>\n",
       "    <tr>\n",
       "      <th>1</th>\n",
       "      <td>3880</td>\n",
       "      <td>3880</td>\n",
       "      <td>3880</td>\n",
       "      <td>3880</td>\n",
       "      <td>3880</td>\n",
       "    </tr>\n",
       "    <tr>\n",
       "      <th>2</th>\n",
       "      <td>4064</td>\n",
       "      <td>4064</td>\n",
       "      <td>4064</td>\n",
       "      <td>4064</td>\n",
       "      <td>4064</td>\n",
       "    </tr>\n",
       "  </tbody>\n",
       "</table>\n",
       "</div>"
      ],
      "text/plain": [
       "         id  premise  hypothesis  lang_abv  language\n",
       "label                                               \n",
       "0      4176     4176        4176      4176      4176\n",
       "1      3880     3880        3880      3880      3880\n",
       "2      4064     4064        4064      4064      4064"
      ]
     },
     "execution_count": 11,
     "metadata": {},
     "output_type": "execute_result"
    }
   ],
   "source": [
    "train.groupby(['label']).count()"
   ]
  },
  {
   "cell_type": "markdown",
   "metadata": {},
   "source": [
    "#### Visualisation des données"
   ]
  },
  {
   "cell_type": "code",
   "execution_count": 12,
   "metadata": {},
   "outputs": [
    {
     "data": {
      "image/png": "[encoded data removed]",
      "text/plain": [
       "<Figure size 864x648 with 1 Axes>"
      ]
     },
     "metadata": {},
     "output_type": "display_data"
    }
   ],
   "source": [
    "#Plotting the distribution of languages in the training data\n",
    "fig, ax = plt.subplots(figsize=(12, 9), subplot_kw=dict(aspect=\"equal\"))\n",
    "\n",
    "languages, frequencies = np.unique(train.language.values, return_counts = True)\n",
    "\n",
    "wedges, texts = ax.pie(frequencies, wedgeprops=dict(width=0.5), startangle=-40)\n",
    "\n",
    "bbox_props = dict(boxstyle=\"square,pad=0.3\", fc=\"w\", ec=\"k\", lw=0.72)\n",
    "kw = dict(arrowprops=dict(arrowstyle=\"-\"),\n",
    "          bbox=bbox_props, zorder=0, va=\"center\")\n",
    "\n",
    "for i, p in enumerate(wedges):\n",
    "    ang = (p.theta2 - p.theta1)/2. + p.theta1\n",
    "    y = np.sin(np.deg2rad(ang))\n",
    "    x = np.cos(np.deg2rad(ang))\n",
    "    horizontalalignment = {-1: \"right\", 1: \"left\"}[int(np.sign(x))]\n",
    "    connectionstyle = \"angle,angleA=0,angleB={}\".format(ang)\n",
    "    kw[\"arrowprops\"].update({\"connectionstyle\": connectionstyle})\n",
    "    ax.annotate(languages[i], xy=(x, y), xytext=(1.35*np.sign(x), 1.4*y),\n",
    "                horizontalalignment=horizontalalignment, **kw)\n",
    "\n",
    "ax.set_title(\"Distribution of languages in the training data\",fontsize=15,family = 'serif',fontweight = 'bold')\n",
    "\n",
    "plt.show()"
   ]
  },
  {
   "cell_type": "markdown",
   "metadata": {},
   "source": [
    "##### Visualisation des modalités de la variable \"label\""
   ]
  },
  {
   "cell_type": "code",
   "execution_count": 13,
   "metadata": {},
   "outputs": [
    {
     "data": {
      "text/html": [
       "<div>\n",
       "<style scoped>\n",
       "    .dataframe tbody tr th:only-of-type {\n",
       "        vertical-align: middle;\n",
       "    }\n",
       "\n",
       "    .dataframe tbody tr th {\n",
       "        vertical-align: top;\n",
       "    }\n",
       "\n",
       "    .dataframe thead th {\n",
       "        text-align: right;\n",
       "    }\n",
       "</style>\n",
       "<table border=\"1\" class=\"dataframe\">\n",
       "  <thead>\n",
       "    <tr style=\"text-align: right;\">\n",
       "      <th></th>\n",
       "      <th>type</th>\n",
       "      <th>count</th>\n",
       "    </tr>\n",
       "  </thead>\n",
       "  <tbody>\n",
       "    <tr>\n",
       "      <th>0</th>\n",
       "      <td>0</td>\n",
       "      <td>4176</td>\n",
       "    </tr>\n",
       "    <tr>\n",
       "      <th>1</th>\n",
       "      <td>2</td>\n",
       "      <td>4064</td>\n",
       "    </tr>\n",
       "    <tr>\n",
       "      <th>2</th>\n",
       "      <td>1</td>\n",
       "      <td>3880</td>\n",
       "    </tr>\n",
       "  </tbody>\n",
       "</table>\n",
       "</div>"
      ],
      "text/plain": [
       "   type  count\n",
       "0     0   4176\n",
       "1     2   4064\n",
       "2     1   3880"
      ]
     },
     "execution_count": 13,
     "metadata": {},
     "output_type": "execute_result"
    }
   ],
   "source": [
    "sntmnt=pd.DataFrame()\n",
    "sntmnt['type']=train.label.value_counts().index\n",
    "sntmnt['count']=train.label.value_counts().values\n",
    "sntmnt"
   ]
  },
  {
   "cell_type": "code",
   "execution_count": 14,
   "metadata": {},
   "outputs": [
    {
     "data": {
      "text/plain": [
       "Text(0.5, 1.0, \"Nombre d'observations dans chaque modalité de la variable 'label'\")"
      ]
     },
     "execution_count": 14,
     "metadata": {},
     "output_type": "execute_result"
    },
    {
     "data": {
      "image/png": "[encoded data removed]",
      "text/plain": [
       "<Figure size 432x288 with 1 Axes>"
      ]
     },
     "metadata": {
      "needs_background": "light"
     },
     "output_type": "display_data"
    }
   ],
   "source": [
    "sns.countplot(train.label)\n",
    "plt.xlabel('Differentes modalités')\n",
    "plt.ylabel(\"Nbr d'observations pour chaque modalité\")\n",
    "plt.title(\"Nombre d'observations dans chaque modalité de la variable 'label'\",\n",
    "          fontsize=15,family = 'serif',fontweight = 'bold')"
   ]
  },
  {
   "cell_type": "markdown",
   "metadata": {},
   "source": [
    "#### Création d'un sous-échantillon avec uniquement le language anglais"
   ]
  },
  {
   "cell_type": "code",
   "execution_count": 15,
   "metadata": {},
   "outputs": [
    {
     "data": {
      "text/plain": [
       "(6870, 6)"
      ]
     },
     "execution_count": 15,
     "metadata": {},
     "output_type": "execute_result"
    }
   ],
   "source": [
    "english_train = train[train['language'] == 'English']\n",
    "english_train.shape"
   ]
  },
  {
   "cell_type": "code",
   "execution_count": 16,
   "metadata": {},
   "outputs": [],
   "source": [
    "#Réindexation du dataframe\n",
    "english_train.reset_index(drop = True, inplace = True)"
   ]
  },
  {
   "cell_type": "code",
   "execution_count": 17,
   "metadata": {},
   "outputs": [
    {
     "data": {
      "text/html": [
       "<div>\n",
       "<style scoped>\n",
       "    .dataframe tbody tr th:only-of-type {\n",
       "        vertical-align: middle;\n",
       "    }\n",
       "\n",
       "    .dataframe tbody tr th {\n",
       "        vertical-align: top;\n",
       "    }\n",
       "\n",
       "    .dataframe thead th {\n",
       "        text-align: right;\n",
       "    }\n",
       "</style>\n",
       "<table border=\"1\" class=\"dataframe\">\n",
       "  <thead>\n",
       "    <tr style=\"text-align: right;\">\n",
       "      <th></th>\n",
       "      <th>id</th>\n",
       "      <th>premise</th>\n",
       "      <th>hypothesis</th>\n",
       "      <th>lang_abv</th>\n",
       "      <th>language</th>\n",
       "      <th>label</th>\n",
       "    </tr>\n",
       "  </thead>\n",
       "  <tbody>\n",
       "    <tr>\n",
       "      <th>0</th>\n",
       "      <td>5130fd2cb5</td>\n",
       "      <td>and these comments were considered in formulat...</td>\n",
       "      <td>The rules developed in the interim were put to...</td>\n",
       "      <td>en</td>\n",
       "      <td>English</td>\n",
       "      <td>0</td>\n",
       "    </tr>\n",
       "    <tr>\n",
       "      <th>1</th>\n",
       "      <td>5b72532a0b</td>\n",
       "      <td>These are issues that we wrestle with in pract...</td>\n",
       "      <td>Practice groups are not permitted to work on t...</td>\n",
       "      <td>en</td>\n",
       "      <td>English</td>\n",
       "      <td>2</td>\n",
       "    </tr>\n",
       "    <tr>\n",
       "      <th>2</th>\n",
       "      <td>5622f0c60b</td>\n",
       "      <td>you know they can't really defend themselves l...</td>\n",
       "      <td>They can't defend themselves because of their ...</td>\n",
       "      <td>en</td>\n",
       "      <td>English</td>\n",
       "      <td>0</td>\n",
       "    </tr>\n",
       "    <tr>\n",
       "      <th>3</th>\n",
       "      <td>fdcd1bd867</td>\n",
       "      <td>From Cockpit Country to St. Ann's Bay</td>\n",
       "      <td>From St. Ann's Bay to Cockpit Country.</td>\n",
       "      <td>en</td>\n",
       "      <td>English</td>\n",
       "      <td>2</td>\n",
       "    </tr>\n",
       "    <tr>\n",
       "      <th>4</th>\n",
       "      <td>7cfb3d272c</td>\n",
       "      <td>Look, it's your skin, but you're going to be i...</td>\n",
       "      <td>The boss will fire you if he sees you slacking...</td>\n",
       "      <td>en</td>\n",
       "      <td>English</td>\n",
       "      <td>1</td>\n",
       "    </tr>\n",
       "  </tbody>\n",
       "</table>\n",
       "</div>"
      ],
      "text/plain": [
       "           id                                            premise  \\\n",
       "0  5130fd2cb5  and these comments were considered in formulat...   \n",
       "1  5b72532a0b  These are issues that we wrestle with in pract...   \n",
       "2  5622f0c60b  you know they can't really defend themselves l...   \n",
       "3  fdcd1bd867              From Cockpit Country to St. Ann's Bay   \n",
       "4  7cfb3d272c  Look, it's your skin, but you're going to be i...   \n",
       "\n",
       "                                          hypothesis lang_abv language  label  \n",
       "0  The rules developed in the interim were put to...       en  English      0  \n",
       "1  Practice groups are not permitted to work on t...       en  English      2  \n",
       "2  They can't defend themselves because of their ...       en  English      0  \n",
       "3             From St. Ann's Bay to Cockpit Country.       en  English      2  \n",
       "4  The boss will fire you if he sees you slacking...       en  English      1  "
      ]
     },
     "execution_count": 17,
     "metadata": {},
     "output_type": "execute_result"
    }
   ],
   "source": [
    "english_train.head()"
   ]
  },
  {
   "cell_type": "code",
   "execution_count": 18,
   "metadata": {},
   "outputs": [
    {
     "data": {
      "text/plain": [
       "\"Look, it's your skin, but you're going to be in trouble if you don't get busy.\""
      ]
     },
     "execution_count": 18,
     "metadata": {},
     "output_type": "execute_result"
    }
   ],
   "source": [
    "english_train['premise'].iloc[4]"
   ]
  },
  {
   "cell_type": "code",
   "execution_count": 19,
   "metadata": {},
   "outputs": [
    {
     "name": "stderr",
     "output_type": "stream",
     "text": [
      "[nltk_data] Downloading package punkt to\n",
      "[nltk_data]     C:\\Users\\julie\\AppData\\Roaming\\nltk_data...\n",
      "[nltk_data]   Package punkt is already up-to-date!\n"
     ]
    },
    {
     "data": {
      "text/plain": [
       "['Look',\n",
       " ',',\n",
       " 'it',\n",
       " \"'s\",\n",
       " 'your',\n",
       " 'skin',\n",
       " ',',\n",
       " 'but',\n",
       " 'you',\n",
       " \"'re\",\n",
       " 'going',\n",
       " 'to',\n",
       " 'be',\n",
       " 'in',\n",
       " 'trouble',\n",
       " 'if',\n",
       " 'you',\n",
       " 'do',\n",
       " \"n't\",\n",
       " 'get',\n",
       " 'busy',\n",
       " '.']"
      ]
     },
     "execution_count": 19,
     "metadata": {},
     "output_type": "execute_result"
    }
   ],
   "source": [
    "nltk.download('punkt')\n",
    "word_tokenize(english_train['premise'].iloc[4])"
   ]
  },
  {
   "cell_type": "markdown",
   "metadata": {},
   "source": [
    "##### Suppression des variables \"language\" et \"lang_abv\" dont on a plus besoin"
   ]
  },
  {
   "cell_type": "code",
   "execution_count": 20,
   "metadata": {},
   "outputs": [],
   "source": [
    "english_train = english_train.drop(columns = ['lang_abv','language'])"
   ]
  },
  {
   "cell_type": "code",
   "execution_count": 21,
   "metadata": {},
   "outputs": [
    {
     "data": {
      "text/html": [
       "<div>\n",
       "<style scoped>\n",
       "    .dataframe tbody tr th:only-of-type {\n",
       "        vertical-align: middle;\n",
       "    }\n",
       "\n",
       "    .dataframe tbody tr th {\n",
       "        vertical-align: top;\n",
       "    }\n",
       "\n",
       "    .dataframe thead th {\n",
       "        text-align: right;\n",
       "    }\n",
       "</style>\n",
       "<table border=\"1\" class=\"dataframe\">\n",
       "  <thead>\n",
       "    <tr style=\"text-align: right;\">\n",
       "      <th></th>\n",
       "      <th>id</th>\n",
       "      <th>premise</th>\n",
       "      <th>hypothesis</th>\n",
       "      <th>label</th>\n",
       "    </tr>\n",
       "  </thead>\n",
       "  <tbody>\n",
       "    <tr>\n",
       "      <th>0</th>\n",
       "      <td>5130fd2cb5</td>\n",
       "      <td>and these comments were considered in formulat...</td>\n",
       "      <td>The rules developed in the interim were put to...</td>\n",
       "      <td>0</td>\n",
       "    </tr>\n",
       "    <tr>\n",
       "      <th>1</th>\n",
       "      <td>5b72532a0b</td>\n",
       "      <td>These are issues that we wrestle with in pract...</td>\n",
       "      <td>Practice groups are not permitted to work on t...</td>\n",
       "      <td>2</td>\n",
       "    </tr>\n",
       "    <tr>\n",
       "      <th>2</th>\n",
       "      <td>5622f0c60b</td>\n",
       "      <td>you know they can't really defend themselves l...</td>\n",
       "      <td>They can't defend themselves because of their ...</td>\n",
       "      <td>0</td>\n",
       "    </tr>\n",
       "    <tr>\n",
       "      <th>3</th>\n",
       "      <td>fdcd1bd867</td>\n",
       "      <td>From Cockpit Country to St. Ann's Bay</td>\n",
       "      <td>From St. Ann's Bay to Cockpit Country.</td>\n",
       "      <td>2</td>\n",
       "    </tr>\n",
       "    <tr>\n",
       "      <th>4</th>\n",
       "      <td>7cfb3d272c</td>\n",
       "      <td>Look, it's your skin, but you're going to be i...</td>\n",
       "      <td>The boss will fire you if he sees you slacking...</td>\n",
       "      <td>1</td>\n",
       "    </tr>\n",
       "  </tbody>\n",
       "</table>\n",
       "</div>"
      ],
      "text/plain": [
       "           id                                            premise  \\\n",
       "0  5130fd2cb5  and these comments were considered in formulat...   \n",
       "1  5b72532a0b  These are issues that we wrestle with in pract...   \n",
       "2  5622f0c60b  you know they can't really defend themselves l...   \n",
       "3  fdcd1bd867              From Cockpit Country to St. Ann's Bay   \n",
       "4  7cfb3d272c  Look, it's your skin, but you're going to be i...   \n",
       "\n",
       "                                          hypothesis  label  \n",
       "0  The rules developed in the interim were put to...      0  \n",
       "1  Practice groups are not permitted to work on t...      2  \n",
       "2  They can't defend themselves because of their ...      0  \n",
       "3             From St. Ann's Bay to Cockpit Country.      2  \n",
       "4  The boss will fire you if he sees you slacking...      1  "
      ]
     },
     "execution_count": 21,
     "metadata": {},
     "output_type": "execute_result"
    }
   ],
   "source": [
    "english_train.head()"
   ]
  },
  {
   "cell_type": "markdown",
   "metadata": {},
   "source": [
    "## Première approche"
   ]
  },
  {
   "cell_type": "markdown",
   "metadata": {},
   "source": [
    "#### On compte le nombre de mot pour les variables \"premise\" et \"hypothesis\""
   ]
  },
  {
   "cell_type": "code",
   "execution_count": 22,
   "metadata": {},
   "outputs": [],
   "source": [
    "def word_count(dataset, column):\n",
    "    len_vector = []\n",
    "    for text in dataset[column]:\n",
    "        len_vector.append(len(text.split()))\n",
    "    \n",
    "    return len_vector"
   ]
  },
  {
   "cell_type": "code",
   "execution_count": 23,
   "metadata": {},
   "outputs": [],
   "source": [
    "english_train_premise = word_count(english_train, 'premise')\n",
    "english_train_hypothesis = word_count(english_train, 'hypothesis')"
   ]
  },
  {
   "cell_type": "markdown",
   "metadata": {},
   "source": [
    "##### Représentation graphique du nombre de mots"
   ]
  },
  {
   "cell_type": "code",
   "execution_count": 24,
   "metadata": {},
   "outputs": [
    {
     "data": {
      "image/png": "[encoded data removed]",
      "text/plain": [
       "<Figure size 1440x720 with 2 Axes>"
      ]
     },
     "metadata": {
      "needs_background": "light"
     },
     "output_type": "display_data"
    }
   ],
   "source": [
    "fig = plt.figure(figsize = (20,10))\n",
    "\n",
    "plt.subplot(2,2,1)\n",
    "plt.title('Nombre de mots de la variable \"premise\"')\n",
    "sns.distplot(english_train_premise)\n",
    "\n",
    "plt.subplot(2,2,2)\n",
    "plt.title('Nombre de mots de la variable \"hypothesis\"')\n",
    "sns.distplot(english_train_hypothesis)\n",
    "       \n",
    "plt.show()"
   ]
  },
  {
   "cell_type": "markdown",
   "metadata": {},
   "source": [
    "#### Création d'un nouveau dataFrame avec les nouvelles variables quantitatives"
   ]
  },
  {
   "cell_type": "code",
   "execution_count": 25,
   "metadata": {},
   "outputs": [],
   "source": [
    "english_final_train = pd.DataFrame(english_train[['id','label']])\n",
    "english_final_train['premise'] = english_train_premise\n",
    "english_final_train['hypothesis'] = english_train_hypothesis"
   ]
  },
  {
   "cell_type": "code",
   "execution_count": 26,
   "metadata": {},
   "outputs": [
    {
     "data": {
      "text/html": [
       "<div>\n",
       "<style scoped>\n",
       "    .dataframe tbody tr th:only-of-type {\n",
       "        vertical-align: middle;\n",
       "    }\n",
       "\n",
       "    .dataframe tbody tr th {\n",
       "        vertical-align: top;\n",
       "    }\n",
       "\n",
       "    .dataframe thead th {\n",
       "        text-align: right;\n",
       "    }\n",
       "</style>\n",
       "<table border=\"1\" class=\"dataframe\">\n",
       "  <thead>\n",
       "    <tr style=\"text-align: right;\">\n",
       "      <th></th>\n",
       "      <th>id</th>\n",
       "      <th>label</th>\n",
       "      <th>premise</th>\n",
       "      <th>hypothesis</th>\n",
       "    </tr>\n",
       "  </thead>\n",
       "  <tbody>\n",
       "    <tr>\n",
       "      <th>0</th>\n",
       "      <td>5130fd2cb5</td>\n",
       "      <td>0</td>\n",
       "      <td>10</td>\n",
       "      <td>14</td>\n",
       "    </tr>\n",
       "    <tr>\n",
       "      <th>1</th>\n",
       "      <td>5b72532a0b</td>\n",
       "      <td>2</td>\n",
       "      <td>15</td>\n",
       "      <td>10</td>\n",
       "    </tr>\n",
       "    <tr>\n",
       "      <th>2</th>\n",
       "      <td>5622f0c60b</td>\n",
       "      <td>0</td>\n",
       "      <td>17</td>\n",
       "      <td>8</td>\n",
       "    </tr>\n",
       "    <tr>\n",
       "      <th>3</th>\n",
       "      <td>fdcd1bd867</td>\n",
       "      <td>2</td>\n",
       "      <td>7</td>\n",
       "      <td>7</td>\n",
       "    </tr>\n",
       "    <tr>\n",
       "      <th>4</th>\n",
       "      <td>7cfb3d272c</td>\n",
       "      <td>1</td>\n",
       "      <td>16</td>\n",
       "      <td>11</td>\n",
       "    </tr>\n",
       "  </tbody>\n",
       "</table>\n",
       "</div>"
      ],
      "text/plain": [
       "           id  label  premise  hypothesis\n",
       "0  5130fd2cb5      0       10          14\n",
       "1  5b72532a0b      2       15          10\n",
       "2  5622f0c60b      0       17           8\n",
       "3  fdcd1bd867      2        7           7\n",
       "4  7cfb3d272c      1       16          11"
      ]
     },
     "execution_count": 26,
     "metadata": {},
     "output_type": "execute_result"
    }
   ],
   "source": [
    "english_final_train.head()"
   ]
  },
  {
   "cell_type": "markdown",
   "metadata": {},
   "source": [
    "#### Préparation de Y et des variables explicatives "
   ]
  },
  {
   "cell_type": "code",
   "execution_count": 27,
   "metadata": {},
   "outputs": [],
   "source": [
    "Y= english_final_train['label']\n",
    "X = english_final_train.drop(columns = ['label','id']).copy()"
   ]
  },
  {
   "cell_type": "code",
   "execution_count": 28,
   "metadata": {},
   "outputs": [
    {
     "data": {
      "text/plain": [
       "0    0.353275\n",
       "2    0.331441\n",
       "1    0.315284\n",
       "Name: label, dtype: float64"
      ]
     },
     "execution_count": 28,
     "metadata": {},
     "output_type": "execute_result"
    }
   ],
   "source": [
    "Y.value_counts()\n",
    "Y.value_counts(normalize=True)\n",
    "# répartition quasiement égale des modalités"
   ]
  },
  {
   "cell_type": "markdown",
   "metadata": {},
   "source": [
    "### Spécification des modèles"
   ]
  },
  {
   "cell_type": "markdown",
   "metadata": {},
   "source": [
    "#### 1/ Arbre de décision"
   ]
  },
  {
   "cell_type": "code",
   "execution_count": 29,
   "metadata": {},
   "outputs": [
    {
     "data": {
      "text/plain": [
       "DecisionTreeClassifier(random_state=0)"
      ]
     },
     "execution_count": 29,
     "metadata": {},
     "output_type": "execute_result"
    }
   ],
   "source": [
    "clf = DecisionTreeClassifier(random_state=0)\n",
    "clf.fit(X,Y)"
   ]
  },
  {
   "cell_type": "code",
   "execution_count": 30,
   "metadata": {},
   "outputs": [
    {
     "name": "stdout",
     "output_type": "stream",
     "text": [
      "F1-score de l'échantillon train : 0.5046940227540541\n"
     ]
    }
   ],
   "source": [
    "print(\"F1-score de l'échantillon train : {}\".format(\n",
    "    f1_score(Y,clf.predict(X), average=\"macro\")\n",
    "))"
   ]
  },
  {
   "cell_type": "markdown",
   "metadata": {},
   "source": [
    "En modifiant les paramètres de l'arbre de décision : "
   ]
  },
  {
   "cell_type": "code",
   "execution_count": 31,
   "metadata": {},
   "outputs": [
    {
     "name": "stdout",
     "output_type": "stream",
     "text": [
      "F1-score de l'échantillon train  : 0.5046666528103502\n"
     ]
    }
   ],
   "source": [
    "clf = DecisionTreeClassifier(max_depth=300, min_samples_split=3,\n",
    "                            class_weight=\"balanced\",random_state=0)\n",
    "\n",
    "clf.fit(X,Y)\n",
    "\n",
    "print(\"F1-score de l'échantillon train  : {}\".format(\n",
    "    f1_score(Y,clf.predict(X), average=\"macro\")\n",
    "))"
   ]
  },
  {
   "cell_type": "markdown",
   "metadata": {},
   "source": [
    "#### 2/ Random Forest"
   ]
  },
  {
   "cell_type": "code",
   "execution_count": 32,
   "metadata": {},
   "outputs": [
    {
     "name": "stdout",
     "output_type": "stream",
     "text": [
      "F1-score de l'échantillon train  : 0.5075956187895715\n"
     ]
    }
   ],
   "source": [
    "clf = RandomForestClassifier(random_state=0)\n",
    "clf.fit(X,Y)\n",
    "print(\"F1-score de l'échantillon train  : {}\".format(\n",
    "    f1_score(Y,clf.predict(X), average=\"macro\")\n",
    "))"
   ]
  },
  {
   "cell_type": "markdown",
   "metadata": {},
   "source": [
    "En changeant les paramètres de Random Forest :"
   ]
  },
  {
   "cell_type": "code",
   "execution_count": 33,
   "metadata": {},
   "outputs": [
    {
     "name": "stdout",
     "output_type": "stream",
     "text": [
      "F1-score de l'échantillon train  : 0.5067371201970416\n"
     ]
    }
   ],
   "source": [
    "clf = RandomForestClassifier(n_estimators=300, max_depth=60,\n",
    "                             min_samples_split=3, class_weight='balanced',\n",
    "                             random_state=0)\n",
    "\n",
    "clf.fit(X,Y)\n",
    "\n",
    "print(\"F1-score de l'échantillon train  : {}\".format(\n",
    "    f1_score(Y,clf.predict(X), average=\"macro\")\n",
    "))"
   ]
  },
  {
   "cell_type": "markdown",
   "metadata": {},
   "source": [
    "#### 3/ Régression logistique"
   ]
  },
  {
   "cell_type": "code",
   "execution_count": 34,
   "metadata": {},
   "outputs": [
    {
     "name": "stdout",
     "output_type": "stream",
     "text": [
      "F1-score de l'échantillon train  : 0.3557945366948674\n"
     ]
    }
   ],
   "source": [
    "clf = LogisticRegression(solver='liblinear',random_state=0)\n",
    "clf.fit(X,Y)\n",
    "print(\"F1-score de l'échantillon train  : {}\".format(\n",
    "    f1_score(Y,clf.predict(X), average=\"macro\")\n",
    "))"
   ]
  },
  {
   "cell_type": "markdown",
   "metadata": {},
   "source": [
    "On peut noter une très mauvaise prédiction. En effet, le score du modèle est seulement de 35.58%. Si l'on compare aux modèles précédents, il s'agit du plus mauvais en terme de score."
   ]
  },
  {
   "cell_type": "markdown",
   "metadata": {},
   "source": [
    "#### 4/ SVM linéaire"
   ]
  },
  {
   "cell_type": "code",
   "execution_count": 35,
   "metadata": {},
   "outputs": [
    {
     "name": "stdout",
     "output_type": "stream",
     "text": [
      "0.3553129548762737\n",
      "[[2404   21    2]\n",
      " [2129   31    6]\n",
      " [2258   13    6]]\n"
     ]
    }
   ],
   "source": [
    "clf =svm.SVC(kernel='linear', C = 1.0)\n",
    "model=clf.fit(X,Y)\n",
    "print(model.score(X,Y))\n",
    "svm_pred = clf.predict(X)\n",
    "print(confusion_matrix(Y, svm_pred))"
   ]
  },
  {
   "cell_type": "code",
   "execution_count": 36,
   "metadata": {},
   "outputs": [
    {
     "name": "stdout",
     "output_type": "stream",
     "text": [
      "0.3532751091703057\n",
      "[[2427    0    0]\n",
      " [2166    0    0]\n",
      " [2277    0    0]]\n"
     ]
    }
   ],
   "source": [
    "clf = svm.SVC(kernel='linear', C = 0.0001)\n",
    "model=clf.fit(X,Y)\n",
    "print(model.score(X,Y))\n",
    "svm_pred = clf.predict(X)\n",
    "print(confusion_matrix(Y, svm_pred))"
   ]
  },
  {
   "cell_type": "markdown",
   "metadata": {},
   "source": [
    "#### 5/ SVM gaussien"
   ]
  },
  {
   "cell_type": "code",
   "execution_count": 37,
   "metadata": {
    "scrolled": true
   },
   "outputs": [
    {
     "data": {
      "text/plain": [
       "0.47438136826783117"
      ]
     },
     "execution_count": 37,
     "metadata": {},
     "output_type": "execute_result"
    }
   ],
   "source": [
    "clf = SVC(kernel=\"rbf\", gamma=\"auto\", C=1)\n",
    "model=clf.fit(X,Y)\n",
    "model.score(X,Y)"
   ]
  },
  {
   "cell_type": "code",
   "execution_count": 38,
   "metadata": {},
   "outputs": [
    {
     "name": "stdout",
     "output_type": "stream",
     "text": [
      "0.5080058224163028\n",
      "[[1306  436  685]\n",
      " [ 622  972  572]\n",
      " [ 669  396 1212]]\n"
     ]
    }
   ],
   "source": [
    "clf = SVC(kernel=\"rbf\", gamma=\"auto\", C=1e6)\n",
    "model=clf.fit(X,Y)\n",
    "print(model.score(X,Y))\n",
    "svm_pred = clf.predict(X)\n",
    "print(confusion_matrix(Y, svm_pred))"
   ]
  },
  {
   "cell_type": "markdown",
   "metadata": {},
   "source": [
    "#### 6/ MLP Classifier"
   ]
  },
  {
   "cell_type": "code",
   "execution_count": 39,
   "metadata": {},
   "outputs": [
    {
     "name": "stdout",
     "output_type": "stream",
     "text": [
      "[[1079  517  831]\n",
      " [1034  554  578]\n",
      " [1006  387  884]]\n"
     ]
    }
   ],
   "source": [
    "MLP_classifier = MLPClassifier(solver='lbfgs', alpha=1e-5, hidden_layer_sizes=(5, 2), random_state=1)\n",
    "model = MLP_classifier.fit(X, Y)\n",
    "MLP_pred = MLP_classifier.predict(X)\n",
    "model.score(X,Y)\n",
    "print(confusion_matrix(Y, MLP_pred))"
   ]
  },
  {
   "cell_type": "markdown",
   "metadata": {},
   "source": [
    "## Deuxième approche"
   ]
  },
  {
   "cell_type": "code",
   "execution_count": 40,
   "metadata": {},
   "outputs": [
    {
     "data": {
      "text/plain": [
       "id            object\n",
       "premise       object\n",
       "hypothesis    object\n",
       "label          int64\n",
       "dtype: object"
      ]
     },
     "execution_count": 40,
     "metadata": {},
     "output_type": "execute_result"
    }
   ],
   "source": [
    "#Type de données\n",
    "english_train.dtypes"
   ]
  },
  {
   "cell_type": "code",
   "execution_count": 41,
   "metadata": {},
   "outputs": [],
   "source": [
    "#Changement du format des colonnes 'premise' et 'hypothesis' pour le fichier train\n",
    "english_train2 = english_train.copy()\n",
    "english_train2[['premise','hypothesis']] = english_train2[['premise','hypothesis']].astype(str)"
   ]
  },
  {
   "cell_type": "markdown",
   "metadata": {},
   "source": [
    "#### Utilisation d'un système d'encodage"
   ]
  },
  {
   "cell_type": "code",
   "execution_count": 42,
   "metadata": {},
   "outputs": [],
   "source": [
    "#Utilisation d'un label encoder\n",
    "encoder=LabelEncoder()"
   ]
  },
  {
   "cell_type": "code",
   "execution_count": 43,
   "metadata": {},
   "outputs": [
    {
     "data": {
      "text/html": [
       "<div>\n",
       "<style scoped>\n",
       "    .dataframe tbody tr th:only-of-type {\n",
       "        vertical-align: middle;\n",
       "    }\n",
       "\n",
       "    .dataframe tbody tr th {\n",
       "        vertical-align: top;\n",
       "    }\n",
       "\n",
       "    .dataframe thead th {\n",
       "        text-align: right;\n",
       "    }\n",
       "</style>\n",
       "<table border=\"1\" class=\"dataframe\">\n",
       "  <thead>\n",
       "    <tr style=\"text-align: right;\">\n",
       "      <th></th>\n",
       "      <th>id</th>\n",
       "      <th>premise</th>\n",
       "      <th>hypothesis</th>\n",
       "      <th>label</th>\n",
       "      <th>code_premise</th>\n",
       "      <th>code_hypothesis</th>\n",
       "    </tr>\n",
       "  </thead>\n",
       "  <tbody>\n",
       "    <tr>\n",
       "      <th>0</th>\n",
       "      <td>5130fd2cb5</td>\n",
       "      <td>and these comments were considered in formulat...</td>\n",
       "      <td>The rules developed in the interim were put to...</td>\n",
       "      <td>0</td>\n",
       "      <td>2602</td>\n",
       "      <td>5228</td>\n",
       "    </tr>\n",
       "    <tr>\n",
       "      <th>1</th>\n",
       "      <td>5b72532a0b</td>\n",
       "      <td>These are issues that we wrestle with in pract...</td>\n",
       "      <td>Practice groups are not permitted to work on t...</td>\n",
       "      <td>2</td>\n",
       "      <td>2176</td>\n",
       "      <td>3399</td>\n",
       "    </tr>\n",
       "    <tr>\n",
       "      <th>2</th>\n",
       "      <td>5622f0c60b</td>\n",
       "      <td>you know they can't really defend themselves l...</td>\n",
       "      <td>They can't defend themselves because of their ...</td>\n",
       "      <td>0</td>\n",
       "      <td>3225</td>\n",
       "      <td>5839</td>\n",
       "    </tr>\n",
       "    <tr>\n",
       "      <th>3</th>\n",
       "      <td>fdcd1bd867</td>\n",
       "      <td>From Cockpit Country to St. Ann's Bay</td>\n",
       "      <td>From St. Ann's Bay to Cockpit Country.</td>\n",
       "      <td>2</td>\n",
       "      <td>727</td>\n",
       "      <td>1082</td>\n",
       "    </tr>\n",
       "    <tr>\n",
       "      <th>4</th>\n",
       "      <td>7cfb3d272c</td>\n",
       "      <td>Look, it's your skin, but you're going to be i...</td>\n",
       "      <td>The boss will fire you if he sees you slacking...</td>\n",
       "      <td>1</td>\n",
       "      <td>1298</td>\n",
       "      <td>4478</td>\n",
       "    </tr>\n",
       "  </tbody>\n",
       "</table>\n",
       "</div>"
      ],
      "text/plain": [
       "           id                                            premise  \\\n",
       "0  5130fd2cb5  and these comments were considered in formulat...   \n",
       "1  5b72532a0b  These are issues that we wrestle with in pract...   \n",
       "2  5622f0c60b  you know they can't really defend themselves l...   \n",
       "3  fdcd1bd867              From Cockpit Country to St. Ann's Bay   \n",
       "4  7cfb3d272c  Look, it's your skin, but you're going to be i...   \n",
       "\n",
       "                                          hypothesis  label  code_premise  \\\n",
       "0  The rules developed in the interim were put to...      0          2602   \n",
       "1  Practice groups are not permitted to work on t...      2          2176   \n",
       "2  They can't defend themselves because of their ...      0          3225   \n",
       "3             From St. Ann's Bay to Cockpit Country.      2           727   \n",
       "4  The boss will fire you if he sees you slacking...      1          1298   \n",
       "\n",
       "   code_hypothesis  \n",
       "0             5228  \n",
       "1             3399  \n",
       "2             5839  \n",
       "3             1082  \n",
       "4             4478  "
      ]
     },
     "execution_count": 43,
     "metadata": {},
     "output_type": "execute_result"
    }
   ],
   "source": [
    "#Encodage du fichier train\n",
    "english_train2['code_premise'] = encoder.fit_transform(english_train2['premise'])\n",
    "english_train2['code_hypothesis'] = encoder.fit_transform(english_train2['hypothesis'])\n",
    "english_train2.head()"
   ]
  },
  {
   "cell_type": "code",
   "execution_count": 44,
   "metadata": {},
   "outputs": [
    {
     "data": {
      "text/html": [
       "<div>\n",
       "<style scoped>\n",
       "    .dataframe tbody tr th:only-of-type {\n",
       "        vertical-align: middle;\n",
       "    }\n",
       "\n",
       "    .dataframe tbody tr th {\n",
       "        vertical-align: top;\n",
       "    }\n",
       "\n",
       "    .dataframe thead th {\n",
       "        text-align: right;\n",
       "    }\n",
       "</style>\n",
       "<table border=\"1\" class=\"dataframe\">\n",
       "  <thead>\n",
       "    <tr style=\"text-align: right;\">\n",
       "      <th></th>\n",
       "      <th>id</th>\n",
       "      <th>premise</th>\n",
       "      <th>hypothesis</th>\n",
       "      <th>label</th>\n",
       "      <th>code_premise</th>\n",
       "      <th>code_hypothesis</th>\n",
       "    </tr>\n",
       "  </thead>\n",
       "  <tbody>\n",
       "    <tr>\n",
       "      <th>0</th>\n",
       "      <td>5130fd2cb5</td>\n",
       "      <td>and these comments were considered in formulat...</td>\n",
       "      <td>The rules developed in the interim were put to...</td>\n",
       "      <td>0</td>\n",
       "      <td>2602</td>\n",
       "      <td>5228</td>\n",
       "    </tr>\n",
       "    <tr>\n",
       "      <th>1</th>\n",
       "      <td>5b72532a0b</td>\n",
       "      <td>These are issues that we wrestle with in pract...</td>\n",
       "      <td>Practice groups are not permitted to work on t...</td>\n",
       "      <td>2</td>\n",
       "      <td>2176</td>\n",
       "      <td>3399</td>\n",
       "    </tr>\n",
       "    <tr>\n",
       "      <th>2</th>\n",
       "      <td>5622f0c60b</td>\n",
       "      <td>you know they can't really defend themselves l...</td>\n",
       "      <td>They can't defend themselves because of their ...</td>\n",
       "      <td>0</td>\n",
       "      <td>3225</td>\n",
       "      <td>5839</td>\n",
       "    </tr>\n",
       "    <tr>\n",
       "      <th>3</th>\n",
       "      <td>fdcd1bd867</td>\n",
       "      <td>From Cockpit Country to St. Ann's Bay</td>\n",
       "      <td>From St. Ann's Bay to Cockpit Country.</td>\n",
       "      <td>2</td>\n",
       "      <td>727</td>\n",
       "      <td>1082</td>\n",
       "    </tr>\n",
       "    <tr>\n",
       "      <th>4</th>\n",
       "      <td>7cfb3d272c</td>\n",
       "      <td>Look, it's your skin, but you're going to be i...</td>\n",
       "      <td>The boss will fire you if he sees you slacking...</td>\n",
       "      <td>1</td>\n",
       "      <td>1298</td>\n",
       "      <td>4478</td>\n",
       "    </tr>\n",
       "  </tbody>\n",
       "</table>\n",
       "</div>"
      ],
      "text/plain": [
       "           id                                            premise  \\\n",
       "0  5130fd2cb5  and these comments were considered in formulat...   \n",
       "1  5b72532a0b  These are issues that we wrestle with in pract...   \n",
       "2  5622f0c60b  you know they can't really defend themselves l...   \n",
       "3  fdcd1bd867              From Cockpit Country to St. Ann's Bay   \n",
       "4  7cfb3d272c  Look, it's your skin, but you're going to be i...   \n",
       "\n",
       "                                          hypothesis  label  code_premise  \\\n",
       "0  The rules developed in the interim were put to...      0          2602   \n",
       "1  Practice groups are not permitted to work on t...      2          2176   \n",
       "2  They can't defend themselves because of their ...      0          3225   \n",
       "3             From St. Ann's Bay to Cockpit Country.      2           727   \n",
       "4  The boss will fire you if he sees you slacking...      1          1298   \n",
       "\n",
       "   code_hypothesis  \n",
       "0             5228  \n",
       "1             3399  \n",
       "2             5839  \n",
       "3             1082  \n",
       "4             4478  "
      ]
     },
     "execution_count": 44,
     "metadata": {},
     "output_type": "execute_result"
    }
   ],
   "source": [
    "#Sélection des 150 premières lignes\n",
    "eng_train = english_train2.iloc[:150]\n",
    "eng_train.head()"
   ]
  },
  {
   "cell_type": "code",
   "execution_count": 45,
   "metadata": {},
   "outputs": [],
   "source": [
    "#Création des X et Y\n",
    "X = eng_train[['code_premise', 'code_hypothesis']].to_numpy()\n",
    "y = eng_train['label'].to_numpy()"
   ]
  },
  {
   "cell_type": "code",
   "execution_count": 46,
   "metadata": {},
   "outputs": [
    {
     "data": {
      "text/plain": [
       "0    0.353275\n",
       "2    0.331441\n",
       "1    0.315284\n",
       "Name: label, dtype: float64"
      ]
     },
     "execution_count": 46,
     "metadata": {},
     "output_type": "execute_result"
    }
   ],
   "source": [
    "Y.value_counts()\n",
    "Y.value_counts(normalize=True)\n",
    "# répartition quasiement égale des modalités"
   ]
  },
  {
   "cell_type": "code",
   "execution_count": 47,
   "metadata": {},
   "outputs": [
    {
     "name": "stdout",
     "output_type": "stream",
     "text": [
      "(105, 2)\n",
      "(45, 2)\n",
      "(105,)\n",
      "(45,)\n"
     ]
    }
   ],
   "source": [
    "#Création des X_train, y_train, X_test et y_test\n",
    "X_train, X_valid, y_train, y_valid = train_test_split(X, y, test_size=0.30, random_state=42)\n",
    "\n",
    "print(X_train.shape)\n",
    "print(X_valid.shape)\n",
    "print(y_train.shape)\n",
    "print(y_valid.shape)"
   ]
  },
  {
   "cell_type": "markdown",
   "metadata": {},
   "source": [
    "#### 1/ SVM linéaire avec les paramètres de défaut"
   ]
  },
  {
   "cell_type": "code",
   "execution_count": 48,
   "metadata": {},
   "outputs": [
    {
     "data": {
      "text/plain": [
       "SVC(gamma='auto', kernel='linear')"
      ]
     },
     "execution_count": 48,
     "metadata": {},
     "output_type": "execute_result"
    }
   ],
   "source": [
    "# Classifieur- SVM linéaire avec paramètres de défaut\n",
    "SVM_linear = svm.SVC(C=1.0, kernel='linear', degree=3, gamma='auto')\n",
    "SVM_linear.fit(X_train,y_train)"
   ]
  },
  {
   "cell_type": "code",
   "execution_count": 49,
   "metadata": {},
   "outputs": [
    {
     "name": "stdout",
     "output_type": "stream",
     "text": [
      "Linear SVM Accuracy Score is : 33.33 %\n"
     ]
    }
   ],
   "source": [
    "#Prévisions\n",
    "SVM_linear_pred = SVM_linear.predict(X_valid)\n",
    "\n",
    "#Accuracy\n",
    "print(\"Linear SVM Accuracy Score is :\", round(accuracy_score(SVM_linear_pred, y_valid)*100,2),\"%\")"
   ]
  },
  {
   "cell_type": "code",
   "execution_count": 50,
   "metadata": {},
   "outputs": [
    {
     "name": "stdout",
     "output_type": "stream",
     "text": [
      "              precision    recall  f1-score   support\n",
      "\n",
      "           0       0.47      0.42      0.44        19\n",
      "           1       0.25      0.08      0.12        13\n",
      "           2       0.25      0.46      0.32        13\n",
      "\n",
      "    accuracy                           0.33        45\n",
      "   macro avg       0.32      0.32      0.30        45\n",
      "weighted avg       0.34      0.33      0.32        45\n",
      "\n"
     ]
    }
   ],
   "source": [
    "print(classification_report(y_valid, SVM_linear_pred))"
   ]
  },
  {
   "cell_type": "markdown",
   "metadata": {},
   "source": [
    "#### 2/ SVM avec GridSearch"
   ]
  },
  {
   "cell_type": "code",
   "execution_count": 51,
   "metadata": {},
   "outputs": [
    {
     "data": {
      "text/plain": [
       "GridSearchCV(estimator=SVC(),\n",
       "             param_grid={'C': [0.1, 1, 10], 'gamma': [1, 0.1, 0.01],\n",
       "                         'kernel': ['rbf', 'linear']})"
      ]
     },
     "execution_count": 51,
     "metadata": {},
     "output_type": "execute_result"
    }
   ],
   "source": [
    "param_grid_rbf = {'C': [0.1, 1, 10],  \n",
    "              'gamma': [1, 0.1, 0.01], \n",
    "              'kernel': ['rbf','linear']} \n",
    "\n",
    "grid = GridSearchCV(SVC(), param_grid_rbf, refit = True)\n",
    "grid.fit(X_train, y_train)"
   ]
  },
  {
   "cell_type": "code",
   "execution_count": 52,
   "metadata": {},
   "outputs": [
    {
     "name": "stdout",
     "output_type": "stream",
     "text": [
      "{'C': 0.1, 'gamma': 1, 'kernel': 'rbf'}\n"
     ]
    }
   ],
   "source": [
    "#Paramètres\n",
    "print(grid.best_params_)"
   ]
  },
  {
   "cell_type": "code",
   "execution_count": 53,
   "metadata": {},
   "outputs": [
    {
     "name": "stdout",
     "output_type": "stream",
     "text": [
      "[[ 0  0 19]\n",
      " [ 0  0 13]\n",
      " [ 0  0 13]]\n"
     ]
    }
   ],
   "source": [
    "#Prédictions et Matrice de confusion\n",
    "pred_grid = grid.predict(X_valid)\n",
    "print(confusion_matrix(y_valid, pred_grid))"
   ]
  },
  {
   "cell_type": "code",
   "execution_count": 54,
   "metadata": {},
   "outputs": [
    {
     "name": "stdout",
     "output_type": "stream",
     "text": [
      "              precision    recall  f1-score   support\n",
      "\n",
      "           0       0.00      0.00      0.00        19\n",
      "           1       0.00      0.00      0.00        13\n",
      "           2       0.29      1.00      0.45        13\n",
      "\n",
      "    accuracy                           0.29        45\n",
      "   macro avg       0.10      0.33      0.15        45\n",
      "weighted avg       0.08      0.29      0.13        45\n",
      "\n"
     ]
    }
   ],
   "source": [
    "print(classification_report(y_valid, pred_grid,zero_division=0))"
   ]
  },
  {
   "cell_type": "markdown",
   "metadata": {},
   "source": [
    "## Troisième approche "
   ]
  },
  {
   "cell_type": "code",
   "execution_count": 55,
   "metadata": {},
   "outputs": [
    {
     "data": {
      "text/html": [
       "<div>\n",
       "<style scoped>\n",
       "    .dataframe tbody tr th:only-of-type {\n",
       "        vertical-align: middle;\n",
       "    }\n",
       "\n",
       "    .dataframe tbody tr th {\n",
       "        vertical-align: top;\n",
       "    }\n",
       "\n",
       "    .dataframe thead th {\n",
       "        text-align: right;\n",
       "    }\n",
       "</style>\n",
       "<table border=\"1\" class=\"dataframe\">\n",
       "  <thead>\n",
       "    <tr style=\"text-align: right;\">\n",
       "      <th></th>\n",
       "      <th>id</th>\n",
       "      <th>premise</th>\n",
       "      <th>hypothesis</th>\n",
       "      <th>label</th>\n",
       "      <th>sentence</th>\n",
       "    </tr>\n",
       "  </thead>\n",
       "  <tbody>\n",
       "    <tr>\n",
       "      <th>0</th>\n",
       "      <td>5130fd2cb5</td>\n",
       "      <td>and these comments were considered in formulat...</td>\n",
       "      <td>The rules developed in the interim were put to...</td>\n",
       "      <td>0</td>\n",
       "      <td>['and these comments were considered in formul...</td>\n",
       "    </tr>\n",
       "    <tr>\n",
       "      <th>1</th>\n",
       "      <td>5b72532a0b</td>\n",
       "      <td>These are issues that we wrestle with in pract...</td>\n",
       "      <td>Practice groups are not permitted to work on t...</td>\n",
       "      <td>2</td>\n",
       "      <td>['These are issues that we wrestle with in pra...</td>\n",
       "    </tr>\n",
       "    <tr>\n",
       "      <th>2</th>\n",
       "      <td>5622f0c60b</td>\n",
       "      <td>you know they can't really defend themselves l...</td>\n",
       "      <td>They can't defend themselves because of their ...</td>\n",
       "      <td>0</td>\n",
       "      <td>[\"you know they can't really defend themselves...</td>\n",
       "    </tr>\n",
       "    <tr>\n",
       "      <th>3</th>\n",
       "      <td>fdcd1bd867</td>\n",
       "      <td>From Cockpit Country to St. Ann's Bay</td>\n",
       "      <td>From St. Ann's Bay to Cockpit Country.</td>\n",
       "      <td>2</td>\n",
       "      <td>[\"From Cockpit Country to St. Ann's Bay\", \"Fro...</td>\n",
       "    </tr>\n",
       "    <tr>\n",
       "      <th>4</th>\n",
       "      <td>7cfb3d272c</td>\n",
       "      <td>Look, it's your skin, but you're going to be i...</td>\n",
       "      <td>The boss will fire you if he sees you slacking...</td>\n",
       "      <td>1</td>\n",
       "      <td>[\"Look, it's your skin, but you're going to be...</td>\n",
       "    </tr>\n",
       "  </tbody>\n",
       "</table>\n",
       "</div>"
      ],
      "text/plain": [
       "           id                                            premise  \\\n",
       "0  5130fd2cb5  and these comments were considered in formulat...   \n",
       "1  5b72532a0b  These are issues that we wrestle with in pract...   \n",
       "2  5622f0c60b  you know they can't really defend themselves l...   \n",
       "3  fdcd1bd867              From Cockpit Country to St. Ann's Bay   \n",
       "4  7cfb3d272c  Look, it's your skin, but you're going to be i...   \n",
       "\n",
       "                                          hypothesis  label  \\\n",
       "0  The rules developed in the interim were put to...      0   \n",
       "1  Practice groups are not permitted to work on t...      2   \n",
       "2  They can't defend themselves because of their ...      0   \n",
       "3             From St. Ann's Bay to Cockpit Country.      2   \n",
       "4  The boss will fire you if he sees you slacking...      1   \n",
       "\n",
       "                                            sentence  \n",
       "0  ['and these comments were considered in formul...  \n",
       "1  ['These are issues that we wrestle with in pra...  \n",
       "2  [\"you know they can't really defend themselves...  \n",
       "3  [\"From Cockpit Country to St. Ann's Bay\", \"Fro...  \n",
       "4  [\"Look, it's your skin, but you're going to be...  "
      ]
     },
     "execution_count": 55,
     "metadata": {},
     "output_type": "execute_result"
    }
   ],
   "source": [
    "#Création d'un nouveau dataframe et d'une nouvelle variable 'sentence'\n",
    "english_train3 = english_train.copy()\n",
    "english_train3['sentence'] = english_train3[['premise','hypothesis']].values.tolist()\n",
    "english_train3['sentence'] = english_train3['sentence'].astype(str)\n",
    "english_train3.head()"
   ]
  },
  {
   "cell_type": "code",
   "execution_count": 56,
   "metadata": {},
   "outputs": [],
   "source": [
    "#Création des X_train, y_train, X_test et y_test\n",
    "X_train, X_valid, y_train, y_valid = train_test_split(english_train3[['sentence']], \n",
    "                                                      english_train3[['label']], test_size=0.30, random_state=42)"
   ]
  },
  {
   "cell_type": "markdown",
   "metadata": {},
   "source": [
    "#### Utilisation de Word2vec"
   ]
  },
  {
   "cell_type": "code",
   "execution_count": 57,
   "metadata": {},
   "outputs": [],
   "source": [
    "#pip install gensim"
   ]
  },
  {
   "cell_type": "code",
   "execution_count": 58,
   "metadata": {},
   "outputs": [
    {
     "data": {
      "text/plain": [
       "['two',\n",
       " 'is',\n",
       " 'enough',\n",
       " 'for',\n",
       " 'a',\n",
       " 'secret',\n",
       " 'a',\n",
       " 'secret',\n",
       " 'needs',\n",
       " 'two',\n",
       " 'people']"
      ]
     },
     "execution_count": 58,
     "metadata": {},
     "output_type": "execute_result"
    }
   ],
   "source": [
    "#Tokenization de la variable 'premise' de X_train\n",
    "sentence = [list(tokenize(s, deacc=True, lower=True)) for s in X_train['sentence']]\n",
    "sentence[0]"
   ]
  },
  {
   "cell_type": "code",
   "execution_count": 59,
   "metadata": {},
   "outputs": [
    {
     "data": {
      "text/plain": [
       "4809"
      ]
     },
     "execution_count": 59,
     "metadata": {},
     "output_type": "execute_result"
    }
   ],
   "source": [
    "#Spécification de Word2vec\n",
    "word_model = word2vec.Word2Vec(sentence, size=300, window=20,\n",
    "                          min_count=2, workers=1, iter=100)\n",
    "word_model.corpus_count"
   ]
  },
  {
   "cell_type": "code",
   "execution_count": 60,
   "metadata": {},
   "outputs": [
    {
     "data": {
      "text/plain": [
       "['two', 'is', 'enough', 'for', 'a', 'secret', 'needs', 'people']"
      ]
     },
     "execution_count": 60,
     "metadata": {},
     "output_type": "execute_result"
    }
   ],
   "source": [
    "#Visualisation du corpus\n",
    "vocab = word_model.wv.vocab\n",
    "list(vocab)[:8]"
   ]
  },
  {
   "cell_type": "code",
   "execution_count": 61,
   "metadata": {},
   "outputs": [
    {
     "data": {
      "text/plain": [
       "((300,),\n",
       " array([ 1.695151  , -4.144818  ,  2.3845334 ,  1.0439211 , -0.29039872],\n",
       "       dtype=float32))"
      ]
     },
     "execution_count": 61,
     "metadata": {},
     "output_type": "execute_result"
    }
   ],
   "source": [
    "#Affichage des 5 premières coordonnées du vecteur asscoié au mot 'people'\n",
    "word_model.wv['people'].shape, word_model.wv['people'][:5]"
   ]
  },
  {
   "cell_type": "code",
   "execution_count": 62,
   "metadata": {},
   "outputs": [
    {
     "name": "stdout",
     "output_type": "stream",
     "text": [
      "\"word 'jeff' not in vocabulary\"\n"
     ]
    }
   ],
   "source": [
    "#Que se passe-t-il si un mot ne fait pas partie du corpus ?\n",
    "try:\n",
    "    word_model.wv['jeff']\n",
    "except KeyError as error:\n",
    "    print(error)"
   ]
  },
  {
   "cell_type": "code",
   "execution_count": 63,
   "metadata": {},
   "outputs": [
    {
     "data": {
      "text/plain": [
       "(4809, 300)"
      ]
     },
     "execution_count": 63,
     "metadata": {},
     "output_type": "execute_result"
    }
   ],
   "source": [
    "def get_vect(word, model):\n",
    "    try:\n",
    "        return model.wv[word]\n",
    "    except KeyError:\n",
    "        return np.zeros((model.vector_size,))\n",
    "\n",
    "def sum_vectors(phrase, model):\n",
    "    return sum(get_vect(w, model) for w in phrase)\n",
    "\n",
    "def word2vec_features(X, model):\n",
    "    feats = np.vstack([sum_vectors(p, model) for p in X])\n",
    "    return feats\n",
    "\n",
    "wv_train_feat = word2vec_features(X_train['sentence'], word_model)\n",
    "wv_train_feat.shape"
   ]
  },
  {
   "cell_type": "markdown",
   "metadata": {},
   "source": [
    "#### 1/ Régression logistique"
   ]
  },
  {
   "cell_type": "code",
   "execution_count": 64,
   "metadata": {},
   "outputs": [
    {
     "data": {
      "text/plain": [
       "LogisticRegression(max_iter=2000)"
      ]
     },
     "execution_count": 64,
     "metadata": {},
     "output_type": "execute_result"
    }
   ],
   "source": [
    "#Modélisation\n",
    "reg_logistic = LogisticRegression(solver='lbfgs', max_iter=2000)\n",
    "reg_logistic.fit(wv_train_feat, y_train.label)"
   ]
  },
  {
   "cell_type": "code",
   "execution_count": 65,
   "metadata": {},
   "outputs": [],
   "source": [
    "wv_test_feat = word2vec_features(X_valid[\"sentence\"], word_model)"
   ]
  },
  {
   "cell_type": "code",
   "execution_count": 66,
   "metadata": {},
   "outputs": [
    {
     "data": {
      "text/plain": [
       "0.3182920912178554"
      ]
     },
     "execution_count": 66,
     "metadata": {},
     "output_type": "execute_result"
    }
   ],
   "source": [
    "#Performance du modèle\n",
    "reg_logistic.score(wv_test_feat, y_valid)"
   ]
  },
  {
   "cell_type": "markdown",
   "metadata": {},
   "source": [
    "## Quatrième approche"
   ]
  },
  {
   "cell_type": "markdown",
   "metadata": {},
   "source": [
    "#### Combinaison du système d'encode et du comptage de mots"
   ]
  },
  {
   "cell_type": "code",
   "execution_count": 67,
   "metadata": {},
   "outputs": [],
   "source": [
    "english_train4 = english_final_train.copy()\n",
    "english_train4['code_premise'] = english_train2['code_premise']\n",
    "english_train4['code_hypothesis'] = english_train2['code_hypothesis']"
   ]
  },
  {
   "cell_type": "markdown",
   "metadata": {},
   "source": [
    "#### Sélection des 500 premières lignes :"
   ]
  },
  {
   "cell_type": "code",
   "execution_count": 68,
   "metadata": {},
   "outputs": [
    {
     "data": {
      "text/html": [
       "<div>\n",
       "<style scoped>\n",
       "    .dataframe tbody tr th:only-of-type {\n",
       "        vertical-align: middle;\n",
       "    }\n",
       "\n",
       "    .dataframe tbody tr th {\n",
       "        vertical-align: top;\n",
       "    }\n",
       "\n",
       "    .dataframe thead th {\n",
       "        text-align: right;\n",
       "    }\n",
       "</style>\n",
       "<table border=\"1\" class=\"dataframe\">\n",
       "  <thead>\n",
       "    <tr style=\"text-align: right;\">\n",
       "      <th></th>\n",
       "      <th>id</th>\n",
       "      <th>label</th>\n",
       "      <th>premise</th>\n",
       "      <th>hypothesis</th>\n",
       "      <th>code_premise</th>\n",
       "      <th>code_hypothesis</th>\n",
       "    </tr>\n",
       "  </thead>\n",
       "  <tbody>\n",
       "    <tr>\n",
       "      <th>0</th>\n",
       "      <td>5130fd2cb5</td>\n",
       "      <td>0</td>\n",
       "      <td>10</td>\n",
       "      <td>14</td>\n",
       "      <td>2602</td>\n",
       "      <td>5228</td>\n",
       "    </tr>\n",
       "    <tr>\n",
       "      <th>1</th>\n",
       "      <td>5b72532a0b</td>\n",
       "      <td>2</td>\n",
       "      <td>15</td>\n",
       "      <td>10</td>\n",
       "      <td>2176</td>\n",
       "      <td>3399</td>\n",
       "    </tr>\n",
       "    <tr>\n",
       "      <th>2</th>\n",
       "      <td>5622f0c60b</td>\n",
       "      <td>0</td>\n",
       "      <td>17</td>\n",
       "      <td>8</td>\n",
       "      <td>3225</td>\n",
       "      <td>5839</td>\n",
       "    </tr>\n",
       "    <tr>\n",
       "      <th>3</th>\n",
       "      <td>fdcd1bd867</td>\n",
       "      <td>2</td>\n",
       "      <td>7</td>\n",
       "      <td>7</td>\n",
       "      <td>727</td>\n",
       "      <td>1082</td>\n",
       "    </tr>\n",
       "    <tr>\n",
       "      <th>4</th>\n",
       "      <td>7cfb3d272c</td>\n",
       "      <td>1</td>\n",
       "      <td>16</td>\n",
       "      <td>11</td>\n",
       "      <td>1298</td>\n",
       "      <td>4478</td>\n",
       "    </tr>\n",
       "  </tbody>\n",
       "</table>\n",
       "</div>"
      ],
      "text/plain": [
       "           id  label  premise  hypothesis  code_premise  code_hypothesis\n",
       "0  5130fd2cb5      0       10          14          2602             5228\n",
       "1  5b72532a0b      2       15          10          2176             3399\n",
       "2  5622f0c60b      0       17           8          3225             5839\n",
       "3  fdcd1bd867      2        7           7           727             1082\n",
       "4  7cfb3d272c      1       16          11          1298             4478"
      ]
     },
     "execution_count": 68,
     "metadata": {},
     "output_type": "execute_result"
    }
   ],
   "source": [
    "english_train4 = english_train4.iloc[:500]\n",
    "english_train4.head()"
   ]
  },
  {
   "cell_type": "markdown",
   "metadata": {},
   "source": [
    "#### Préparation de Y et des variables explicatives "
   ]
  },
  {
   "cell_type": "code",
   "execution_count": 69,
   "metadata": {},
   "outputs": [],
   "source": [
    "Y= english_train4['label']\n",
    "X = english_train4.drop(columns = ['label','id']).copy()"
   ]
  },
  {
   "cell_type": "code",
   "execution_count": 70,
   "metadata": {},
   "outputs": [
    {
     "name": "stdout",
     "output_type": "stream",
     "text": [
      "(350, 4)\n",
      "(150, 4)\n",
      "(350,)\n",
      "(150,)\n"
     ]
    }
   ],
   "source": [
    "X_train, X_valid, y_train, y_valid = train_test_split(X, Y, test_size=0.30, random_state=42)\n",
    "\n",
    "print(X_train.shape)\n",
    "print(X_valid.shape)\n",
    "print(y_train.shape)\n",
    "print(y_valid.shape)"
   ]
  },
  {
   "cell_type": "markdown",
   "metadata": {},
   "source": [
    "#### Spécification des modèles"
   ]
  },
  {
   "cell_type": "markdown",
   "metadata": {},
   "source": [
    "##### 1/ Arbre de décision"
   ]
  },
  {
   "cell_type": "code",
   "execution_count": 71,
   "metadata": {},
   "outputs": [
    {
     "data": {
      "text/plain": [
       "DecisionTreeClassifier(random_state=0)"
      ]
     },
     "execution_count": 71,
     "metadata": {},
     "output_type": "execute_result"
    }
   ],
   "source": [
    "from sklearn.tree import DecisionTreeClassifier\n",
    "clf = DecisionTreeClassifier(random_state=0)\n",
    "clf.fit(X_train,y_train)"
   ]
  },
  {
   "cell_type": "code",
   "execution_count": 72,
   "metadata": {},
   "outputs": [
    {
     "name": "stdout",
     "output_type": "stream",
     "text": [
      "F1-score de l'échantillon train : 1.0\n",
      "F1-score de l'échantillon validation : 0.3078938880825673\n"
     ]
    }
   ],
   "source": [
    "print(\"F1-score de l'échantillon train : {}\".format(\n",
    "    f1_score(y_train,clf.predict(X_train), average=\"macro\")\n",
    "))\n",
    "print(\"F1-score de l'échantillon validation : {}\".format(\n",
    "    f1_score(y_valid, clf.predict(X_valid), average='macro')\n",
    "))"
   ]
  },
  {
   "cell_type": "markdown",
   "metadata": {},
   "source": [
    "On observe un sur-apprentissage pour l'échantillon train puisque le score = 1. En modifiant les paramètres de l'arbre de décision : "
   ]
  },
  {
   "cell_type": "code",
   "execution_count": 73,
   "metadata": {},
   "outputs": [
    {
     "name": "stdout",
     "output_type": "stream",
     "text": [
      "F1-score de l'échantillon train  : 0.9314986038390294\n",
      "F1-score de l'échantillon validation  : 0.33362269560289365\n"
     ]
    }
   ],
   "source": [
    "clf = DecisionTreeClassifier(max_depth=50, min_samples_split=4,\n",
    "                            class_weight=\"balanced\",criterion = 'entropy',random_state=0)\n",
    "\n",
    "clf.fit(X_train,y_train)\n",
    "\n",
    "print(\"F1-score de l'échantillon train  : {}\".format(\n",
    "    f1_score(y_train,clf.predict(X_train), average=\"macro\")\n",
    "))\n",
    "print(\"F1-score de l'échantillon validation  : {}\".format(\n",
    "    f1_score(y_valid,clf.predict(X_valid), average=\"macro\")\n",
    "))"
   ]
  },
  {
   "cell_type": "markdown",
   "metadata": {},
   "source": [
    "Les performances du modèle n'ont presque pas augmenté par rapport au modèle précédent. Cependant, ce dernier est plsu robuste et nous avons diminué le sur-apprentissage."
   ]
  },
  {
   "cell_type": "markdown",
   "metadata": {},
   "source": [
    "##### 2/ Random Forest"
   ]
  },
  {
   "cell_type": "code",
   "execution_count": 74,
   "metadata": {},
   "outputs": [
    {
     "name": "stdout",
     "output_type": "stream",
     "text": [
      "F1-score de l'échantillon train  : 1.0\n",
      "F1-score de l'échantillon validation  : 0.3199429600018701\n"
     ]
    }
   ],
   "source": [
    "clf = RandomForestClassifier(random_state=0)\n",
    "\n",
    "clf.fit(X_train,y_train)\n",
    "\n",
    "print(\"F1-score de l'échantillon train  : {}\".format(\n",
    "    f1_score(y_train,clf.predict(X_train), average=\"macro\")\n",
    "))\n",
    "print(\"F1-score de l'échantillon validation  : {}\".format(\n",
    "    f1_score(y_valid,clf.predict(X_valid), average=\"macro\")\n",
    "))"
   ]
  },
  {
   "cell_type": "markdown",
   "metadata": {},
   "source": [
    "Nous sommes toujours confrontées à un problème de sur-apprentissage. De plus, ce modèle est moins performant sur l'échantillon de validation que le premier. Nous allons le faire évoluer en changeant les paramètres de Random Forest :"
   ]
  },
  {
   "cell_type": "code",
   "execution_count": 75,
   "metadata": {},
   "outputs": [
    {
     "name": "stdout",
     "output_type": "stream",
     "text": [
      "F1-score de l'échantillon train  : 0.8207167325428196\n",
      "F1-score de l'échantillon validation  : 0.33942229880962627\n"
     ]
    }
   ],
   "source": [
    "clf = RandomForestClassifier(n_estimators=100, max_depth=6,\n",
    "                             min_samples_split=4, criterion = 'entropy',class_weight='balanced',\n",
    "                             random_state=0)\n",
    "\n",
    "clf.fit(X_train,y_train)\n",
    "\n",
    "print(\"F1-score de l'échantillon train  : {}\".format(\n",
    "    f1_score(y_train,clf.predict(X_train), average=\"macro\")\n",
    "))\n",
    "print(\"F1-score de l'échantillon validation  : {}\".format(\n",
    "    f1_score(y_valid,clf.predict(X_valid), average=\"macro\")\n",
    "))"
   ]
  },
  {
   "cell_type": "markdown",
   "metadata": {},
   "source": [
    "Nous pouvons noter une légère amélioration du modèle avec un Fscore de 33% pour l'échantillon validation."
   ]
  },
  {
   "cell_type": "markdown",
   "metadata": {},
   "source": [
    "##### 3/ Régression logistique"
   ]
  },
  {
   "cell_type": "code",
   "execution_count": 76,
   "metadata": {},
   "outputs": [
    {
     "name": "stdout",
     "output_type": "stream",
     "text": [
      "F1-score de l'échantillon train  : 0.4352171564285045\n",
      "F1-score de l'échantillon validation  : 0.3731030873888017\n"
     ]
    }
   ],
   "source": [
    "clf = LogisticRegression(solver='liblinear',random_state=0)\n",
    "\n",
    "clf.fit(X_train,y_train)\n",
    "print(\"F1-score de l'échantillon train  : {}\".format(\n",
    "    f1_score(y_train,clf.predict(X_train), average=\"macro\")\n",
    "))\n",
    "print(\"F1-score de l'échantillon validation  : {}\".format(\n",
    "    f1_score(y_valid,clf.predict(X_valid), average=\"macro\")\n",
    "))"
   ]
  },
  {
   "cell_type": "markdown",
   "metadata": {},
   "source": [
    "##### 4/ SVM linéaire"
   ]
  },
  {
   "cell_type": "code",
   "execution_count": 77,
   "metadata": {},
   "outputs": [],
   "source": [
    "clf =svm.SVC(kernel='linear', C = 1.0)\n",
    "model=clf.fit(X_train,y_train)"
   ]
  },
  {
   "cell_type": "code",
   "execution_count": 78,
   "metadata": {},
   "outputs": [
    {
     "name": "stdout",
     "output_type": "stream",
     "text": [
      "0.38\n",
      "[[12 33  7]\n",
      " [10 33  7]\n",
      " [ 5 31 12]]\n"
     ]
    }
   ],
   "source": [
    "print(model.score(X_train,y_train))\n",
    "svm_pred = clf.predict(X_valid)\n",
    "print(confusion_matrix(y_valid, svm_pred))"
   ]
  },
  {
   "cell_type": "code",
   "execution_count": 79,
   "metadata": {},
   "outputs": [
    {
     "name": "stdout",
     "output_type": "stream",
     "text": [
      "Linear SVM Accuracy Score is : 38.0 %\n"
     ]
    }
   ],
   "source": [
    "#Accuracy\n",
    "print(\"Linear SVM Accuracy Score is :\", round(accuracy_score(svm_pred, y_valid)*100,2),\"%\")"
   ]
  },
  {
   "cell_type": "markdown",
   "metadata": {},
   "source": [
    "Nous allons changer la valeur de C dans le modèle précédent :"
   ]
  },
  {
   "cell_type": "code",
   "execution_count": 80,
   "metadata": {},
   "outputs": [
    {
     "name": "stdout",
     "output_type": "stream",
     "text": [
      "0.43142857142857144\n",
      "[[18 13 21]\n",
      " [19 17 14]\n",
      " [12 13 23]]\n",
      "Linear SVM Accuracy Score is : 38.67 %\n"
     ]
    }
   ],
   "source": [
    "clf2 = svm.SVC(kernel='linear', C = 0.1)\n",
    "model2 = clf2.fit(X_train,y_train)\n",
    "print(model2.score(X_train,y_train))\n",
    "\n",
    "svm_pred2 = clf2.predict(X_valid)\n",
    "print(confusion_matrix(y_valid, svm_pred2))\n",
    "\n",
    "print(\"Linear SVM Accuracy Score is :\", round(accuracy_score(svm_pred2, y_valid)*100,2),\"%\")"
   ]
  },
  {
   "cell_type": "code",
   "execution_count": 81,
   "metadata": {},
   "outputs": [
    {
     "name": "stdout",
     "output_type": "stream",
     "text": [
      "Taux de prédiction trouvés : [0.30666667 0.36      ]\n",
      "Taux de prédiction de Cross-Validation (moyenne) : 0.3333333333333333\n"
     ]
    }
   ],
   "source": [
    "cv_results = cross_val_score(clf2, X_valid, y_valid, cv=2)\n",
    "moyenne_cv_results = cv_results.mean()\n",
    "print(\"Taux de prédiction trouvés : {}\" .format(cv_results))\n",
    "print(\"Taux de prédiction de Cross-Validation (moyenne) : {}\" .format(moyenne_cv_results))"
   ]
  },
  {
   "cell_type": "markdown",
   "metadata": {},
   "source": [
    "##### 5/ SVM gaussien"
   ]
  },
  {
   "cell_type": "code",
   "execution_count": 82,
   "metadata": {},
   "outputs": [
    {
     "name": "stdout",
     "output_type": "stream",
     "text": [
      "0.39714285714285713\n",
      "[[31 15  6]\n",
      " [30 18  2]\n",
      " [24 20  4]]\n"
     ]
    }
   ],
   "source": [
    "clf3 = svm.SVC(kernel=\"rbf\")\n",
    "model3=clf3.fit(X_train,y_train)\n",
    "print(model3.score(X_train,y_train))\n",
    "\n",
    "svm_pred3 = clf3.predict(X_valid)\n",
    "print(confusion_matrix(y_valid, svm_pred3))"
   ]
  },
  {
   "cell_type": "code",
   "execution_count": 83,
   "metadata": {},
   "outputs": [
    {
     "name": "stdout",
     "output_type": "stream",
     "text": [
      "SVM Gaussian Accuracy Score is : 35.33 %\n"
     ]
    }
   ],
   "source": [
    "#Accuracy\n",
    "print(\"SVM Gaussian Accuracy Score is :\", round(accuracy_score(svm_pred3, y_valid)*100,2),\"%\")"
   ]
  },
  {
   "cell_type": "markdown",
   "metadata": {},
   "source": [
    "Nous allons changer la valeur de C dans le modèle précédent :"
   ]
  },
  {
   "cell_type": "code",
   "execution_count": 84,
   "metadata": {},
   "outputs": [
    {
     "name": "stdout",
     "output_type": "stream",
     "text": [
      "0.34285714285714286\n",
      "[[52  0  0]\n",
      " [50  0  0]\n",
      " [48  0  0]]\n"
     ]
    }
   ],
   "source": [
    "clf4 = svm.SVC(kernel=\"rbf\", gamma=\"auto\", degree=2, C=0.1)\n",
    "model4 = clf4.fit(X_train,y_train)\n",
    "print(model4.score(X_train,y_train))\n",
    "\n",
    "svm_pred4 = clf4.predict(X_valid)\n",
    "print(confusion_matrix(y_valid, svm_pred4))"
   ]
  },
  {
   "cell_type": "code",
   "execution_count": 85,
   "metadata": {},
   "outputs": [
    {
     "name": "stdout",
     "output_type": "stream",
     "text": [
      "SVM Gaussian Accuracy Score is : 34.67 %\n"
     ]
    }
   ],
   "source": [
    "#Accuracy\n",
    "print(\"SVM Gaussian Accuracy Score is :\", round(accuracy_score(svm_pred4, y_valid)*100,2),\"%\")"
   ]
  },
  {
   "cell_type": "markdown",
   "metadata": {},
   "source": [
    "##### 6/ MLP Classifier"
   ]
  },
  {
   "cell_type": "code",
   "execution_count": 86,
   "metadata": {},
   "outputs": [
    {
     "name": "stdout",
     "output_type": "stream",
     "text": [
      "0.34285714285714286\n",
      "[[52  0  0]\n",
      " [50  0  0]\n",
      " [48  0  0]]\n"
     ]
    }
   ],
   "source": [
    "MLP_classifier = MLPClassifier(solver='lbfgs', alpha=1e-5, hidden_layer_sizes=(5, 2), random_state=1)\n",
    "model = MLP_classifier.fit(X_train, y_train)\n",
    "print(model.score(X_train,y_train))\n",
    "\n",
    "MLP_pred = MLP_classifier.predict(X_valid)\n",
    "print(confusion_matrix(y_valid, MLP_pred))"
   ]
  },
  {
   "cell_type": "code",
   "execution_count": 87,
   "metadata": {},
   "outputs": [
    {
     "name": "stdout",
     "output_type": "stream",
     "text": [
      "MPL classifier Accuracy Score is : 34.67 %\n"
     ]
    }
   ],
   "source": [
    "#Accuracy\n",
    "print(\"MPL classifier Accuracy Score is :\", round(accuracy_score(MLP_pred, y_valid)*100,2),\"%\")"
   ]
  },
  {
   "cell_type": "markdown",
   "metadata": {},
   "source": [
    "##### 7/ Optimisation avec GridSearch"
   ]
  },
  {
   "cell_type": "code",
   "execution_count": 88,
   "metadata": {},
   "outputs": [
    {
     "data": {
      "text/plain": [
       "GridSearchCV(cv=5, estimator=RandomForestClassifier(),\n",
       "             param_grid={'max_depth': [5, 10, 20, 30, 50],\n",
       "                         'n_estimators': [5, 10, 20, 40, 80, 100, 150, 200,\n",
       "                                          400]},\n",
       "             scoring='f1_macro')"
      ]
     },
     "execution_count": 88,
     "metadata": {},
     "output_type": "execute_result"
    }
   ],
   "source": [
    "n_estimators = [5,10,20,40,80,100,150,200,400]\n",
    "max_depth = [5, 10, 20, 30, 50]\n",
    "#min_samples_split = [0.1, 0.05, 0.03, 2]\n",
    "#class_weight = [None, \"balanced\"]\n",
    "\n",
    "parameters = {'n_estimators': n_estimators ,\n",
    "              'max_depth' : max_depth\n",
    "#              'min_samples_split' : min_samples_split\n",
    "#              'class_weight' : class_weight\n",
    "             }\n",
    "\n",
    "RF = RandomForestClassifier()\n",
    "\n",
    "clf = GridSearchCV(RF, parameters, scoring = 'f1_macro', cv = 5 )\n",
    "clf.fit(X_train, y_train)"
   ]
  },
  {
   "cell_type": "code",
   "execution_count": 89,
   "metadata": {},
   "outputs": [
    {
     "data": {
      "text/plain": [
       "dict_keys(['mean_fit_time', 'std_fit_time', 'mean_score_time', 'std_score_time', 'param_max_depth', 'param_n_estimators', 'params', 'split0_test_score', 'split1_test_score', 'split2_test_score', 'split3_test_score', 'split4_test_score', 'mean_test_score', 'std_test_score', 'rank_test_score'])"
      ]
     },
     "execution_count": 89,
     "metadata": {},
     "output_type": "execute_result"
    }
   ],
   "source": [
    "clf.cv_results_.keys()"
   ]
  },
  {
   "cell_type": "code",
   "execution_count": 90,
   "metadata": {},
   "outputs": [],
   "source": [
    "gridsearch_result = pd.DataFrame(clf.cv_results_[\"params\"])\n",
    "gridsearch_result[\"score\"] = clf.cv_results_[\"mean_test_score\"]"
   ]
  },
  {
   "cell_type": "code",
   "execution_count": 91,
   "metadata": {},
   "outputs": [
    {
     "data": {
      "image/png": "[encoded data removed]",
      "text/plain": [
       "<Figure size 432x288 with 1 Axes>"
      ]
     },
     "metadata": {
      "needs_background": "light"
     },
     "output_type": "display_data"
    }
   ],
   "source": [
    "gridsearch_result[[\"n_estimators\",\"max_depth\",\"score\"]].groupby([\"n_estimators\",\"max_depth\"]).mean().unstack().plot()\n",
    "plt.show()"
   ]
  },
  {
   "cell_type": "code",
   "execution_count": 92,
   "metadata": {},
   "outputs": [
    {
     "name": "stdout",
     "output_type": "stream",
     "text": [
      "<bound method BaseEstimator.set_params of RandomForestClassifier(max_depth=20, n_estimators=10)>\n"
     ]
    }
   ],
   "source": [
    "clf_final = clf.best_estimator_\n",
    "print(clf_final.set_params)"
   ]
  },
  {
   "cell_type": "code",
   "execution_count": 93,
   "metadata": {},
   "outputs": [
    {
     "data": {
      "image/png": "[encoded data removed]",
      "text/plain": [
       "<Figure size 432x288 with 1 Axes>"
      ]
     },
     "metadata": {
      "needs_background": "light"
     },
     "output_type": "display_data"
    }
   ],
   "source": [
    "var_explicative = list(X)\n",
    "plt.bar(\n",
    "    var_explicative,\n",
    "    clf_final.feature_importances_\n",
    ")\n",
    "plt.xticks(rotation=90)\n",
    "plt.title(\"Importance des variables explicatives dans le modèle\")\n",
    "plt.show()"
   ]
  },
  {
   "cell_type": "code",
   "execution_count": 94,
   "metadata": {},
   "outputs": [
    {
     "name": "stdout",
     "output_type": "stream",
     "text": [
      "Valid F1-score : 0.34640538642564983\n"
     ]
    }
   ],
   "source": [
    "print(\"Valid F1-score : {}\".format(\n",
    "    f1_score(y_valid, clf_final.predict(X_valid), average='macro')\n",
    "))"
   ]
  },
  {
   "cell_type": "markdown",
   "metadata": {},
   "source": [
    "##### 8/ Tensorflow"
   ]
  },
  {
   "cell_type": "code",
   "execution_count": 95,
   "metadata": {},
   "outputs": [],
   "source": [
    "model = tf.keras.Sequential([\n",
    "    tf.keras.layers.Flatten(),\n",
    "    tf.keras.layers.Dense(200, activation='relu'),\n",
    "    tf.keras.layers.Dense(10),\n",
    "])"
   ]
  },
  {
   "cell_type": "code",
   "execution_count": 96,
   "metadata": {},
   "outputs": [],
   "source": [
    "model.compile(optimizer='adam',\n",
    "              loss=tf.keras.losses.SparseCategoricalCrossentropy(from_logits=True),\n",
    "              metrics=['accuracy'])"
   ]
  },
  {
   "cell_type": "code",
   "execution_count": 97,
   "metadata": {},
   "outputs": [
    {
     "name": "stdout",
     "output_type": "stream",
     "text": [
      "Epoch 1/10\n",
      "11/11 [==============================] - 0s 2ms/step - loss: 180.9570 - accuracy: 0.3229\n",
      "Epoch 2/10\n",
      "11/11 [==============================] - 0s 722us/step - loss: 77.5493 - accuracy: 0.3457\n",
      "Epoch 3/10\n",
      "11/11 [==============================] - 0s 635us/step - loss: 42.7200 - accuracy: 0.3286\n",
      "Epoch 4/10\n",
      "11/11 [==============================] - 0s 816us/step - loss: 25.0222 - accuracy: 0.3229\n",
      "Epoch 5/10\n",
      "11/11 [==============================] - 0s 725us/step - loss: 20.1195 - accuracy: 0.3486\n",
      "Epoch 6/10\n",
      "11/11 [==============================] - 0s 725us/step - loss: 11.4890 - accuracy: 0.3257\n",
      "Epoch 7/10\n",
      "11/11 [==============================] - 0s 907us/step - loss: 6.3552 - accuracy: 0.3714\n",
      "Epoch 8/10\n",
      "11/11 [==============================] - 0s 725us/step - loss: 4.8091 - accuracy: 0.3800\n",
      "Epoch 9/10\n",
      "11/11 [==============================] - 0s 816us/step - loss: 4.4851 - accuracy: 0.3800\n",
      "Epoch 10/10\n",
      "11/11 [==============================] - 0s 816us/step - loss: 5.0503 - accuracy: 0.3886\n"
     ]
    },
    {
     "data": {
      "text/plain": [
       "<tensorflow.python.keras.callbacks.History at 0x1e6a4f7de50>"
      ]
     },
     "execution_count": 97,
     "metadata": {},
     "output_type": "execute_result"
    }
   ],
   "source": [
    "model.fit(X_train, y_train, epochs=10)"
   ]
  },
  {
   "cell_type": "code",
   "execution_count": 98,
   "metadata": {},
   "outputs": [
    {
     "name": "stdout",
     "output_type": "stream",
     "text": [
      "5/5 - 0s - loss: 6.3825 - accuracy: 0.3133\n",
      "\n",
      "Test accuracy: 0.3133\n"
     ]
    }
   ],
   "source": [
    "test_loss, test_acc = model.evaluate(X_valid, y_valid, verbose=2)\n",
    "print('\\nTest accuracy:', round(test_acc,4))"
   ]
  },
  {
   "cell_type": "code",
   "execution_count": 99,
   "metadata": {},
   "outputs": [
    {
     "data": {
      "text/plain": [
       "array([9.9991238e-01, 8.7962265e-10, 8.7620567e-05, 0.0000000e+00,\n",
       "       0.0000000e+00, 0.0000000e+00, 0.0000000e+00, 0.0000000e+00,\n",
       "       0.0000000e+00, 0.0000000e+00], dtype=float32)"
      ]
     },
     "execution_count": 99,
     "metadata": {},
     "output_type": "execute_result"
    }
   ],
   "source": [
    "#Prévision\n",
    "probability_model = tf.keras.Sequential([model, \n",
    "                                         tf.keras.layers.Softmax()])\n",
    "\n",
    "predictions = probability_model.predict(X_valid)\n",
    "predictions[0]"
   ]
  },
  {
   "cell_type": "markdown",
   "metadata": {},
   "source": [
    "## Cinquième approche "
   ]
  },
  {
   "cell_type": "markdown",
   "metadata": {},
   "source": [
    "Dans cette nouvelle approche, nous allons nous concentrer sur la classification des 'contradictions'"
   ]
  },
  {
   "cell_type": "code",
   "execution_count": 100,
   "metadata": {},
   "outputs": [
    {
     "data": {
      "text/html": [
       "<div>\n",
       "<style scoped>\n",
       "    .dataframe tbody tr th:only-of-type {\n",
       "        vertical-align: middle;\n",
       "    }\n",
       "\n",
       "    .dataframe tbody tr th {\n",
       "        vertical-align: top;\n",
       "    }\n",
       "\n",
       "    .dataframe thead th {\n",
       "        text-align: right;\n",
       "    }\n",
       "</style>\n",
       "<table border=\"1\" class=\"dataframe\">\n",
       "  <thead>\n",
       "    <tr style=\"text-align: right;\">\n",
       "      <th></th>\n",
       "      <th>id</th>\n",
       "      <th>premise</th>\n",
       "      <th>hypothesis</th>\n",
       "      <th>label</th>\n",
       "      <th>contradiction</th>\n",
       "    </tr>\n",
       "  </thead>\n",
       "  <tbody>\n",
       "    <tr>\n",
       "      <th>0</th>\n",
       "      <td>5130fd2cb5</td>\n",
       "      <td>and these comments were considered in formulat...</td>\n",
       "      <td>The rules developed in the interim were put to...</td>\n",
       "      <td>0</td>\n",
       "      <td>0</td>\n",
       "    </tr>\n",
       "    <tr>\n",
       "      <th>1</th>\n",
       "      <td>5b72532a0b</td>\n",
       "      <td>These are issues that we wrestle with in pract...</td>\n",
       "      <td>Practice groups are not permitted to work on t...</td>\n",
       "      <td>2</td>\n",
       "      <td>1</td>\n",
       "    </tr>\n",
       "    <tr>\n",
       "      <th>2</th>\n",
       "      <td>5622f0c60b</td>\n",
       "      <td>you know they can't really defend themselves l...</td>\n",
       "      <td>They can't defend themselves because of their ...</td>\n",
       "      <td>0</td>\n",
       "      <td>0</td>\n",
       "    </tr>\n",
       "    <tr>\n",
       "      <th>3</th>\n",
       "      <td>fdcd1bd867</td>\n",
       "      <td>From Cockpit Country to St. Ann's Bay</td>\n",
       "      <td>From St. Ann's Bay to Cockpit Country.</td>\n",
       "      <td>2</td>\n",
       "      <td>1</td>\n",
       "    </tr>\n",
       "    <tr>\n",
       "      <th>4</th>\n",
       "      <td>7cfb3d272c</td>\n",
       "      <td>Look, it's your skin, but you're going to be i...</td>\n",
       "      <td>The boss will fire you if he sees you slacking...</td>\n",
       "      <td>1</td>\n",
       "      <td>0</td>\n",
       "    </tr>\n",
       "  </tbody>\n",
       "</table>\n",
       "</div>"
      ],
      "text/plain": [
       "           id                                            premise  \\\n",
       "0  5130fd2cb5  and these comments were considered in formulat...   \n",
       "1  5b72532a0b  These are issues that we wrestle with in pract...   \n",
       "2  5622f0c60b  you know they can't really defend themselves l...   \n",
       "3  fdcd1bd867              From Cockpit Country to St. Ann's Bay   \n",
       "4  7cfb3d272c  Look, it's your skin, but you're going to be i...   \n",
       "\n",
       "                                          hypothesis  label  contradiction  \n",
       "0  The rules developed in the interim were put to...      0              0  \n",
       "1  Practice groups are not permitted to work on t...      2              1  \n",
       "2  They can't defend themselves because of their ...      0              0  \n",
       "3             From St. Ann's Bay to Cockpit Country.      2              1  \n",
       "4  The boss will fire you if he sees you slacking...      1              0  "
      ]
     },
     "execution_count": 100,
     "metadata": {},
     "output_type": "execute_result"
    }
   ],
   "source": [
    "#Création d'une nouvelle 'target'\n",
    "#On veut essayer de savoir si 'premise' et 'hypothesis' sont des contractions ou non\n",
    "\n",
    "english_train5 = english_train.copy()\n",
    "english_train5['contradiction'] = np.where(english_train5['label']==2, 1, 0)\n",
    "english_train5.head()"
   ]
  },
  {
   "cell_type": "markdown",
   "metadata": {},
   "source": [
    "Sélection des 1000 premières lignes :"
   ]
  },
  {
   "cell_type": "code",
   "execution_count": 101,
   "metadata": {},
   "outputs": [
    {
     "data": {
      "text/html": [
       "<div>\n",
       "<style scoped>\n",
       "    .dataframe tbody tr th:only-of-type {\n",
       "        vertical-align: middle;\n",
       "    }\n",
       "\n",
       "    .dataframe tbody tr th {\n",
       "        vertical-align: top;\n",
       "    }\n",
       "\n",
       "    .dataframe thead th {\n",
       "        text-align: right;\n",
       "    }\n",
       "</style>\n",
       "<table border=\"1\" class=\"dataframe\">\n",
       "  <thead>\n",
       "    <tr style=\"text-align: right;\">\n",
       "      <th></th>\n",
       "      <th>id</th>\n",
       "      <th>premise</th>\n",
       "      <th>hypothesis</th>\n",
       "      <th>label</th>\n",
       "      <th>contradiction</th>\n",
       "    </tr>\n",
       "  </thead>\n",
       "  <tbody>\n",
       "    <tr>\n",
       "      <th>0</th>\n",
       "      <td>5130fd2cb5</td>\n",
       "      <td>and these comments were considered in formulat...</td>\n",
       "      <td>The rules developed in the interim were put to...</td>\n",
       "      <td>0</td>\n",
       "      <td>0</td>\n",
       "    </tr>\n",
       "    <tr>\n",
       "      <th>1</th>\n",
       "      <td>5b72532a0b</td>\n",
       "      <td>These are issues that we wrestle with in pract...</td>\n",
       "      <td>Practice groups are not permitted to work on t...</td>\n",
       "      <td>2</td>\n",
       "      <td>1</td>\n",
       "    </tr>\n",
       "    <tr>\n",
       "      <th>2</th>\n",
       "      <td>5622f0c60b</td>\n",
       "      <td>you know they can't really defend themselves l...</td>\n",
       "      <td>They can't defend themselves because of their ...</td>\n",
       "      <td>0</td>\n",
       "      <td>0</td>\n",
       "    </tr>\n",
       "    <tr>\n",
       "      <th>3</th>\n",
       "      <td>fdcd1bd867</td>\n",
       "      <td>From Cockpit Country to St. Ann's Bay</td>\n",
       "      <td>From St. Ann's Bay to Cockpit Country.</td>\n",
       "      <td>2</td>\n",
       "      <td>1</td>\n",
       "    </tr>\n",
       "    <tr>\n",
       "      <th>4</th>\n",
       "      <td>7cfb3d272c</td>\n",
       "      <td>Look, it's your skin, but you're going to be i...</td>\n",
       "      <td>The boss will fire you if he sees you slacking...</td>\n",
       "      <td>1</td>\n",
       "      <td>0</td>\n",
       "    </tr>\n",
       "  </tbody>\n",
       "</table>\n",
       "</div>"
      ],
      "text/plain": [
       "           id                                            premise  \\\n",
       "0  5130fd2cb5  and these comments were considered in formulat...   \n",
       "1  5b72532a0b  These are issues that we wrestle with in pract...   \n",
       "2  5622f0c60b  you know they can't really defend themselves l...   \n",
       "3  fdcd1bd867              From Cockpit Country to St. Ann's Bay   \n",
       "4  7cfb3d272c  Look, it's your skin, but you're going to be i...   \n",
       "\n",
       "                                          hypothesis  label  contradiction  \n",
       "0  The rules developed in the interim were put to...      0              0  \n",
       "1  Practice groups are not permitted to work on t...      2              1  \n",
       "2  They can't defend themselves because of their ...      0              0  \n",
       "3             From St. Ann's Bay to Cockpit Country.      2              1  \n",
       "4  The boss will fire you if he sees you slacking...      1              0  "
      ]
     },
     "execution_count": 101,
     "metadata": {},
     "output_type": "execute_result"
    }
   ],
   "source": [
    "english_train5 = english_train5.iloc[:1000]\n",
    "english_train5.head()"
   ]
  },
  {
   "cell_type": "code",
   "execution_count": 102,
   "metadata": {},
   "outputs": [],
   "source": [
    "X=english_train5['premise']+english_train5['hypothesis']\n",
    "y=english_train5['contradiction'].values\n",
    "y=np.array(y)"
   ]
  },
  {
   "cell_type": "markdown",
   "metadata": {},
   "source": [
    "#### Utilisation de CountVectorizer"
   ]
  },
  {
   "cell_type": "code",
   "execution_count": 103,
   "metadata": {},
   "outputs": [],
   "source": [
    "cv=CountVectorizer(stop_words='english')"
   ]
  },
  {
   "cell_type": "code",
   "execution_count": 104,
   "metadata": {},
   "outputs": [],
   "source": [
    "X=cv.fit_transform(X)"
   ]
  },
  {
   "cell_type": "code",
   "execution_count": 105,
   "metadata": {},
   "outputs": [],
   "source": [
    "X_train, X_valid, y_train, y_valid = train_test_split(X, y,test_size=0.3,random_state=42)"
   ]
  },
  {
   "cell_type": "markdown",
   "metadata": {},
   "source": [
    "##### 1/ SVM linéaire"
   ]
  },
  {
   "cell_type": "code",
   "execution_count": 106,
   "metadata": {},
   "outputs": [
    {
     "name": "stdout",
     "output_type": "stream",
     "text": [
      "              precision    recall  f1-score   support\n",
      "\n",
      "           0       0.64      0.68      0.66       201\n",
      "           1       0.27      0.24      0.26        99\n",
      "\n",
      "    accuracy                           0.53       300\n",
      "   macro avg       0.46      0.46      0.46       300\n",
      "weighted avg       0.52      0.53      0.53       300\n",
      "\n"
     ]
    }
   ],
   "source": [
    "lin_SVM = svm.SVC(kernel='linear')\n",
    "lin_SVM_fit = lin_SVM.fit(X_train, y_train)\n",
    "\n",
    "lin_pred = lin_SVM.predict(X_valid)\n",
    "print(metrics.classification_report(lin_pred, y_valid))"
   ]
  },
  {
   "cell_type": "markdown",
   "metadata": {},
   "source": [
    "##### 2/ SVM avec GridSearch"
   ]
  },
  {
   "cell_type": "code",
   "execution_count": 107,
   "metadata": {},
   "outputs": [
    {
     "name": "stdout",
     "output_type": "stream",
     "text": [
      "              precision    recall  f1-score   support\n",
      "\n",
      "           0       1.00      0.70      0.83       300\n",
      "           1       0.00      0.00      0.00         0\n",
      "\n",
      "    accuracy                           0.70       300\n",
      "   macro avg       0.50      0.35      0.41       300\n",
      "weighted avg       1.00      0.70      0.83       300\n",
      "\n"
     ]
    }
   ],
   "source": [
    "grid = {\n",
    "'C': [0.1, 1, 10, 100, 1000],\n",
    "'gamma': [1, 0.1, 0.01, 0.001, 0.0001],\n",
    "'kernel': ['rbf','linear']}\n",
    "\n",
    "SVM_rbf = svm.SVC()\n",
    "grid_search = GridSearchCV(SVM_rbf, param_grid = grid, refit = True)\n",
    "grid_search_fit = grid_search.fit(X_train, y_train)\n",
    "SVM_rbf_pred = grid_search.predict(X_valid)\n",
    "print(metrics.classification_report(SVM_rbf_pred, y_valid,zero_division=0))"
   ]
  },
  {
   "cell_type": "markdown",
   "metadata": {},
   "source": [
    "#### Utilisation d'un pipeline"
   ]
  },
  {
   "cell_type": "markdown",
   "metadata": {},
   "source": [
    "##### 1/ SVM linéaire"
   ]
  },
  {
   "cell_type": "code",
   "execution_count": 108,
   "metadata": {},
   "outputs": [],
   "source": [
    "#Spécification du pipeline\n",
    "pipeline = Pipeline([\n",
    "    ('bow', CountVectorizer(stop_words = 'english')),\n",
    "    ('tfidf', TfidfTransformer()),\n",
    "    ('classifier', svm.SVC(kernel='linear')),\n",
    "])"
   ]
  },
  {
   "cell_type": "code",
   "execution_count": 109,
   "metadata": {},
   "outputs": [],
   "source": [
    "#Echantillonnage du jeu de données \n",
    "X=english_train5['premise']+english_train5['hypothesis']\n",
    "y=english_train5['contradiction'].values\n",
    "X_train, X_valid, y_train, y_valid = train_test_split(X, y, test_size=0.3, random_state=42)"
   ]
  },
  {
   "cell_type": "code",
   "execution_count": 110,
   "metadata": {},
   "outputs": [],
   "source": [
    "pip_fit = pipeline.fit(X_train,y_train)"
   ]
  },
  {
   "cell_type": "code",
   "execution_count": 111,
   "metadata": {},
   "outputs": [],
   "source": [
    "pip_pred = pip_fit.predict(X_valid)"
   ]
  },
  {
   "cell_type": "code",
   "execution_count": 112,
   "metadata": {},
   "outputs": [
    {
     "name": "stdout",
     "output_type": "stream",
     "text": [
      "              precision    recall  f1-score   support\n",
      "\n",
      "           0       0.70      0.88      0.78       211\n",
      "           1       0.29      0.11      0.16        89\n",
      "\n",
      "    accuracy                           0.65       300\n",
      "   macro avg       0.49      0.50      0.47       300\n",
      "weighted avg       0.58      0.65      0.60       300\n",
      "\n"
     ]
    }
   ],
   "source": [
    "print(classification_report(y_valid,pip_pred))"
   ]
  },
  {
   "cell_type": "markdown",
   "metadata": {},
   "source": [
    "##### 2/ SVM avec GridSearch"
   ]
  },
  {
   "cell_type": "code",
   "execution_count": 113,
   "metadata": {},
   "outputs": [],
   "source": [
    "#Spécification de GridSearch\n",
    "grid = {\n",
    "'C': [0.1, 1, 10, 100, 1000],\n",
    "'gamma': [1, 0.1, 0.01, 0.001, 0.0001],\n",
    "'kernel': ['rbf','linear']}\n",
    "\n",
    "SVM_rbf = svm.SVC()\n",
    "grid_search = GridSearchCV(SVM_rbf, param_grid = grid, refit = True)"
   ]
  },
  {
   "cell_type": "code",
   "execution_count": 114,
   "metadata": {},
   "outputs": [],
   "source": [
    "#Spécification du pipeline\n",
    "pipeline = Pipeline([\n",
    "    ('bow', CountVectorizer(stop_words = 'english')),\n",
    "    ('tfidf', TfidfTransformer()),\n",
    "    ('classifier', grid_search),\n",
    "])"
   ]
  },
  {
   "cell_type": "code",
   "execution_count": 115,
   "metadata": {},
   "outputs": [
    {
     "name": "stdout",
     "output_type": "stream",
     "text": [
      "              precision    recall  f1-score   support\n",
      "\n",
      "           0       1.00      0.70      0.83       300\n",
      "           1       0.00      0.00      0.00         0\n",
      "\n",
      "    accuracy                           0.70       300\n",
      "   macro avg       0.50      0.35      0.41       300\n",
      "weighted avg       1.00      0.70      0.83       300\n",
      "\n"
     ]
    }
   ],
   "source": [
    "grid_search_fit = pipeline.fit(X_train, y_train)\n",
    "SVM_rbf_pred = pipeline.predict(X_valid)\n",
    "print(metrics.classification_report(SVM_rbf_pred, y_valid,zero_division=0))"
   ]
  }
 ],
 "metadata": {
  "kernelspec": {
   "display_name": "Python 3",
   "language": "python",
   "name": "python3"
  },
  "language_info": {
   "codemirror_mode": {
    "name": "ipython",
    "version": 3
   },
   "file_extension": ".py",
   "mimetype": "text/x-python",
   "name": "python",
   "nbconvert_exporter": "python",
   "pygments_lexer": "ipython3",
   "version": "3.8.3"
  }
 },
 "nbformat": 4,
 "nbformat_minor": 2
}
